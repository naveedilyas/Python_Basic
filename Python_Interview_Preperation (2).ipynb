{
  "nbformat": 4,
  "nbformat_minor": 0,
  "metadata": {
    "colab": {
      "provenance": []
    },
    "kernelspec": {
      "name": "python3",
      "display_name": "Python 3"
    },
    "language_info": {
      "name": "python"
    }
  },
  "cells": [
    {
      "cell_type": "code",
      "execution_count": null,
      "metadata": {
        "colab": {
          "base_uri": "https://localhost:8080/"
        },
        "id": "kAyWtbqDPTFl",
        "outputId": "56427917-bfed-43d9-edc3-f8af8a3c4f14"
      },
      "outputs": [
        {
          "output_type": "stream",
          "name": "stdout",
          "text": [
            "1\n",
            "1\n",
            "2\n",
            "3\n",
            "5\n"
          ]
        }
      ],
      "source": [
        "# print the number less than 5\n",
        "a = [1, 1, 2, 3, 5, 8, 13, 21, 34, 55, 89]\n",
        "# for i, b in enumerate(a):\n",
        "#   print(i,b)\n",
        "for elmnt in a:\n",
        "  if elmnt < 8:\n",
        "    print(elmnt)  "
      ]
    },
    {
      "cell_type": "code",
      "source": [
        "# Write a Python program to sum all the items in a list\n",
        "count= 0\n",
        "for elmnt in range(0,len(a)):\n",
        "  total=count+a[elmnt]\n",
        "print(total)  "
      ],
      "metadata": {
        "colab": {
          "base_uri": "https://localhost:8080/"
        },
        "id": "BM2cz3prV-79",
        "outputId": "bcf09b17-e238-48e1-e7a7-8cde70028548"
      },
      "execution_count": null,
      "outputs": [
        {
          "output_type": "stream",
          "name": "stdout",
          "text": [
            "89\n"
          ]
        }
      ]
    },
    {
      "cell_type": "code",
      "source": [
        "# Write a Python program to multiply all the items in a list\n",
        "b = [2,3,4,1]\n",
        "product = 1\n",
        "for elmnt in b:\n",
        "  # print(b[i]*b[i+1])\n",
        "  # print(c)\n",
        "  product = product * elmnt\n",
        "print(product)"
      ],
      "metadata": {
        "colab": {
          "base_uri": "https://localhost:8080/"
        },
        "id": "w9V1OiiBWrvc",
        "outputId": "78529a09-0366-41aa-91c2-217ea5566351"
      },
      "execution_count": null,
      "outputs": [
        {
          "output_type": "stream",
          "name": "stdout",
          "text": [
            "24\n"
          ]
        }
      ]
    },
    {
      "cell_type": "code",
      "source": [
        "# Write a Python program to add all the items in a list\n",
        "b = [2,3,4,1]\n",
        "count = 0\n",
        "for elmnt in b:\n",
        "  count = count+elmnt\n",
        "print(count)  "
      ],
      "metadata": {
        "colab": {
          "base_uri": "https://localhost:8080/"
        },
        "id": "6EnGTT6MhFc7",
        "outputId": "7515443b-a6d2-4fe8-c444-0552f972bf94"
      },
      "execution_count": null,
      "outputs": [
        {
          "output_type": "stream",
          "name": "stdout",
          "text": [
            "10\n"
          ]
        }
      ]
    },
    {
      "cell_type": "code",
      "source": [
        "# Write a Python program to add all the items in a list\n",
        "b = [2,3,4,1]\n",
        "count = 0\n",
        "for elmnt in range(0,len(b)):\n",
        "  count = count + b[elmnt]\n",
        "print(count)  "
      ],
      "metadata": {
        "colab": {
          "base_uri": "https://localhost:8080/"
        },
        "id": "-926AkiGh3jX",
        "outputId": "abb7d7d7-6d26-4334-e53f-aeb080df891c"
      },
      "execution_count": null,
      "outputs": [
        {
          "output_type": "stream",
          "name": "stdout",
          "text": [
            "10\n"
          ]
        }
      ]
    },
    {
      "cell_type": "code",
      "source": [
        "# Write a Python program to multiply all the items in a list\n",
        "b = [2,3,4,1]\n",
        "product = 1\n",
        "for elmnt in range(0,len(b)):\n",
        "  product = product * b[elmnt]\n",
        "print(product)  "
      ],
      "metadata": {
        "colab": {
          "base_uri": "https://localhost:8080/"
        },
        "id": "ZMUHB7BsivHW",
        "outputId": "a844e071-f2cd-4b47-c613-b4316d2d0a65"
      },
      "execution_count": null,
      "outputs": [
        {
          "output_type": "stream",
          "name": "stdout",
          "text": [
            "24\n"
          ]
        }
      ]
    },
    {
      "cell_type": "code",
      "source": [
        "# Write a Python program to get the largest number from a list.\n",
        "b = [2,3,4,1]\n",
        "first = b[0]\n",
        "\n",
        "for elmt in range(0,len(b)):\n",
        "  if b[elmt] > first:\n",
        "    first = b[elmt]\n",
        "print(first)  "
      ],
      "metadata": {
        "colab": {
          "base_uri": "https://localhost:8080/"
        },
        "id": "jianLJupjaTl",
        "outputId": "af29e1fc-1b3d-4777-8d99-0aa86fe14b41"
      },
      "execution_count": null,
      "outputs": [
        {
          "output_type": "stream",
          "name": "stdout",
          "text": [
            "4\n"
          ]
        }
      ]
    },
    {
      "cell_type": "code",
      "source": [
        "# Write a Python program to get the smallest number from a list.\n",
        "b = [2,3,4,1]\n",
        "first = b[0]\n",
        "\n",
        "for elmt in range(0, len(b)):\n",
        "  if b[elmt] < first:\n",
        "    first = b[elmt]\n",
        "print(first)     "
      ],
      "metadata": {
        "colab": {
          "base_uri": "https://localhost:8080/"
        },
        "id": "2E7uYVVIrPV1",
        "outputId": "f7256bd6-3e45-417c-e656-f9e1faf818f9"
      },
      "execution_count": null,
      "outputs": [
        {
          "output_type": "stream",
          "name": "stdout",
          "text": [
            "1\n"
          ]
        }
      ]
    },
    {
      "cell_type": "code",
      "source": [
        "# Write a Python program to count the number of strings from a given list of strings. \n",
        "# The string length is 2 or more and the first and last characters are the same. Go to the editor\n",
        "# Sample List : ['abc', 'xyz', 'aba', '1221']\n",
        "sample_list = ['abc', 'xyz', 'aba', '1221']\n",
        "# print(len(sample_list))\n",
        "count = 0\n",
        "for elmt in sample_list:\n",
        "  if isinstance(elmt,str):\n",
        "    count = count+1\n",
        "\n",
        "\n",
        "\n",
        "\n",
        "  # if elmt[0] == elmt[-1]:\n",
        "  #   # print(elmt)\n",
        "  #   count = count + 1\n",
        "\n",
        "print(count)\n"
      ],
      "metadata": {
        "colab": {
          "base_uri": "https://localhost:8080/"
        },
        "id": "CMLSFSIhDK-n",
        "outputId": "4acc04eb-affe-4086-f68d-f1df5e59554c"
      },
      "execution_count": 6,
      "outputs": [
        {
          "output_type": "stream",
          "name": "stdout",
          "text": [
            "4\n"
          ]
        }
      ]
    },
    {
      "cell_type": "code",
      "source": [
        "# Write a Python program to get a list, sorted in increasing order by the last element in each tuple from a given list of non-empty tuples. Go to the editor\n",
        "# Sample List : [(2, 5), (1, 2), (4, 4), (2, 3), (2, 1)]\n",
        "# Expected Result : [(2, 1), (1, 2), (2, 3), (4, 4), (2, 5)\n",
        "\n",
        "a = [(2, 5), (1, 2), (4, 4), (2, 3), (2, 1)]\n",
        "sorted(a, key=lambda x:x[-1])"
      ],
      "metadata": {
        "colab": {
          "base_uri": "https://localhost:8080/"
        },
        "id": "axs5epHdJaZC",
        "outputId": "17643787-d25c-4d51-c6a3-eb7ce2884ca6"
      },
      "execution_count": null,
      "outputs": [
        {
          "output_type": "execute_result",
          "data": {
            "text/plain": [
              "[(2, 1), (1, 2), (2, 3), (4, 4), (2, 5)]"
            ]
          },
          "metadata": {},
          "execution_count": 27
        }
      ]
    },
    {
      "cell_type": "code",
      "source": [
        "def dup(lst):\n",
        "  new_list = []\n",
        "  for item in lst:\n",
        "    if item not in new_list:\n",
        "      new_list.append(item)\n",
        "  return new_list    \n",
        "\n",
        "db = [1,1,2,3,4,4]  \n",
        "dup(db)  "
      ],
      "metadata": {
        "colab": {
          "base_uri": "https://localhost:8080/"
        },
        "id": "a-admiMXskcX",
        "outputId": "19a6ad0e-a970-4c8f-8a81-f41e5e5bc810"
      },
      "execution_count": 10,
      "outputs": [
        {
          "output_type": "execute_result",
          "data": {
            "text/plain": [
              "[1, 2, 3, 4]"
            ]
          },
          "metadata": {},
          "execution_count": 10
        }
      ]
    },
    {
      "cell_type": "code",
      "source": [
        "# Write a Python program to remove duplicates from a list.\n",
        "db = [1,1,2,3,4,4]\n",
        "for i, j in enumerate(db):\n",
        "  # print(i, j)\n",
        "  if db[i] == db[i+1]:\n",
        "    del db[j]\n",
        "print(db)    "
      ],
      "metadata": {
        "colab": {
          "base_uri": "https://localhost:8080/"
        },
        "id": "pPNaLWkiMlSX",
        "outputId": "f6dcafd3-4bc9-4543-e34a-ab5e42cb8e71"
      },
      "execution_count": 11,
      "outputs": [
        {
          "output_type": "stream",
          "name": "stdout",
          "text": [
            "[1, 2, 3, 4]\n"
          ]
        }
      ]
    },
    {
      "cell_type": "code",
      "source": [
        "# Write a Python program to check if a list is empty or not.\n",
        "db = [1,1,2,3,4,4]\n",
        "if len(db) == 0:\n",
        "  print(\"List is empty\")\n",
        "else:\n",
        "  print(\"list is full\")  "
      ],
      "metadata": {
        "colab": {
          "base_uri": "https://localhost:8080/"
        },
        "id": "ytGQwJXqSJAV",
        "outputId": "b92363f1-b0a9-4d64-85d1-a30b28b3a353"
      },
      "execution_count": null,
      "outputs": [
        {
          "output_type": "stream",
          "name": "stdout",
          "text": [
            "list is full\n"
          ]
        }
      ]
    },
    {
      "cell_type": "code",
      "source": [
        "# Write a Python program to clone or copy a list.\n",
        "d = [1,1,2,3,4,4]\n",
        "d.copy()"
      ],
      "metadata": {
        "colab": {
          "base_uri": "https://localhost:8080/"
        },
        "id": "nBmw-06OUd0b",
        "outputId": "6134b080-a195-4830-b3e7-2c018d9193c3"
      },
      "execution_count": null,
      "outputs": [
        {
          "output_type": "execute_result",
          "data": {
            "text/plain": [
              "[1, 1, 2, 3, 4, 4]"
            ]
          },
          "metadata": {},
          "execution_count": 40
        }
      ]
    },
    {
      "cell_type": "code",
      "source": [
        "db = [1, 1, 2, 3, 4, 4]\n",
        "new_db = []\n",
        "\n",
        "for i in db:\n",
        "    if i not in new_db:\n",
        "        new_db.append(i)\n",
        "\n",
        "print(new_db)\n"
      ],
      "metadata": {
        "colab": {
          "base_uri": "https://localhost:8080/"
        },
        "id": "T7Ftrs6zQA2k",
        "outputId": "42983751-9168-4ab7-ae8c-9178794d8b95"
      },
      "execution_count": null,
      "outputs": [
        {
          "output_type": "stream",
          "name": "stdout",
          "text": [
            "[1, 2, 3, 4]\n"
          ]
        }
      ]
    },
    {
      "cell_type": "code",
      "source": [
        "# Write a Python function that takes two lists and returns True if they have at least one common member.\n",
        "def commn_mem(list1,list2):\n",
        "  for i in range(0,len(list1)):\n",
        "    if list1[i] == list2[i]:\n",
        "      print(f\"elemnt {i} in list1 is equal to element {i} in list2\")\n",
        "  return print(f\"elemnt {i} in list1 is equal to element {i} in list2\")\n",
        "\n",
        "l1= [1,2,3,4]\n",
        "l2 = [2,4,6,7]\n",
        "commn_mem(l1,l2)  "
      ],
      "metadata": {
        "colab": {
          "base_uri": "https://localhost:8080/"
        },
        "id": "CGZc3303XRZ2",
        "outputId": "cfe91ebb-4e33-4e60-fa3c-ac66ca8a7aee"
      },
      "execution_count": 12,
      "outputs": [
        {
          "output_type": "stream",
          "name": "stdout",
          "text": [
            "elemnt 3 in list1 is equal to element 3 in list2\n"
          ]
        }
      ]
    },
    {
      "cell_type": "code",
      "source": [
        "# Write a Python function that takes two lists and returns True if they have at least one common member.\n",
        "\n",
        "def taktwo(l1,l2):\n",
        "  empty_list = []\n",
        "  for i in l1:\n",
        "    for j in l2:\n",
        "      if i == j:\n",
        "        empty_list.append(i)\n",
        "        return True, empty_list\n",
        "  # return empty_list\n",
        "\n",
        "\n",
        "\n",
        "\n",
        "l1 = [1,2,3,4]\n",
        "l2 = [6,3,4,5]\n",
        "taktwo(l1,l2)  "
      ],
      "metadata": {
        "colab": {
          "base_uri": "https://localhost:8080/"
        },
        "id": "YMNnWAw5uLLD",
        "outputId": "c7d736e9-39ac-44d7-ba74-1b15f920362d"
      },
      "execution_count": 19,
      "outputs": [
        {
          "output_type": "execute_result",
          "data": {
            "text/plain": [
              "(True, [3])"
            ]
          },
          "metadata": {},
          "execution_count": 19
        }
      ]
    },
    {
      "cell_type": "code",
      "source": [
        "def coomn_numb(lst1,lst2):\n",
        "  for a in lst1:\n",
        "    for b in lst2:\n",
        "      if lst1[a] == lst2[b]:\n",
        "        a = True\n",
        "      return a\n",
        "\n",
        "l1= [1,2,3,4]\n",
        "l2 = [2,4,6,7]\n",
        "coomn_numb(l1,l2)       \n"
      ],
      "metadata": {
        "colab": {
          "base_uri": "https://localhost:8080/"
        },
        "id": "t8dBGjNIePfl",
        "outputId": "ae6a78ac-cabd-4592-b796-eb2cd479028e"
      },
      "execution_count": null,
      "outputs": [
        {
          "output_type": "execute_result",
          "data": {
            "text/plain": [
              "1"
            ]
          },
          "metadata": {},
          "execution_count": 61
        }
      ]
    },
    {
      "cell_type": "code",
      "source": [
        "# Write a Python program to print a specified list after removing the 0th, 4th and 5th elements. Go to the editor\n",
        "# Sample List : ['Red', 'Green', 'White', 'Black', 'Pink', 'Yellow']\n",
        "# Expected Output : ['Green', 'White', 'Black']\n",
        "\n",
        "a = ['Red', 'Green', 'White', 'Black', 'Pink', 'Yellow']\n",
        "b =a[1:4]\n",
        "print(b)\n",
        "# for item in a:\n",
        "#   if item not in a[0:2:1]:\n",
        "#     b.append(item)\n",
        "# print(b)    \n",
        "# for idx, value in enumerate(a):\n",
        "#   # print(idx, value)\n",
        "#   if idx not in (0,4,5):\n",
        "#     print(idx)\n",
        "\n"
      ],
      "metadata": {
        "colab": {
          "base_uri": "https://localhost:8080/"
        },
        "id": "rox8tlKUkU3_",
        "outputId": "2749fbee-8163-4047-ce67-2e59040e72ad"
      },
      "execution_count": 27,
      "outputs": [
        {
          "output_type": "stream",
          "name": "stdout",
          "text": [
            "['Green', 'White', 'Black']\n"
          ]
        }
      ]
    },
    {
      "cell_type": "code",
      "source": [
        "# 3*4*6 \n",
        "import numpy as np\n",
        "a = np.array([3,4,6])\n",
        "\n",
        "\n",
        "def fun1(lst1):\n",
        "  empt_lst = []\n",
        "  for item in lst1:\n",
        "    if item % 2 != 0:\n",
        "      empt_lst.append(item)\n",
        "    \n",
        "  return empt_lst  \n",
        "\n",
        "lst1 = [2,2,3,4]   \n",
        "fun1(lst1)"
      ],
      "metadata": {
        "colab": {
          "base_uri": "https://localhost:8080/"
        },
        "id": "lIP38dMMqBjl",
        "outputId": "8750639b-2ded-44aa-baea-967e37b40a4c"
      },
      "execution_count": 34,
      "outputs": [
        {
          "output_type": "execute_result",
          "data": {
            "text/plain": [
              "[3]"
            ]
          },
          "metadata": {},
          "execution_count": 34
        }
      ]
    },
    {
      "cell_type": "code",
      "source": [
        "# Write a Python program to print the numbers of a specified list after removing even numbers from it.\n",
        "list1 = [1,2,4,6,3]\n",
        "new_list =[]\n",
        "for a in list1:\n",
        "  if a % 2 != 0:\n",
        "    new_list.append(a)\n",
        "print(new_list)    "
      ],
      "metadata": {
        "colab": {
          "base_uri": "https://localhost:8080/"
        },
        "id": "mKmMCyi_qaUD",
        "outputId": "807ae9bf-9f37-4a68-e37e-85648aa6ee6e"
      },
      "execution_count": null,
      "outputs": [
        {
          "output_type": "stream",
          "name": "stdout",
          "text": [
            "[1, 3]\n"
          ]
        }
      ]
    },
    {
      "cell_type": "code",
      "source": [
        "#Write a Python function to find a list at a specific location.\n",
        "list1 = [1,5,6,7]\n",
        "largest = list1[0]\n",
        "for num in list1:\n",
        "  if  num > largest:\n",
        "    largest = num\n",
        "print(largest)\n"
      ],
      "metadata": {
        "colab": {
          "base_uri": "https://localhost:8080/"
        },
        "id": "f2PON5a9tbSm",
        "outputId": "cc77c202-e333-4c6f-c51a-77d3351dab21"
      },
      "execution_count": null,
      "outputs": [
        {
          "output_type": "stream",
          "name": "stdout",
          "text": [
            "7\n"
          ]
        }
      ]
    },
    {
      "cell_type": "code",
      "source": [
        "# lst1 = [2,4,5,8]\n",
        "# # lst1[::-1]\n",
        "# new_lst = []\n",
        "# for i in range(len(lst1)-1,-1,1):\n",
        "#   new_lst = new_lst + (lst1[i])\n",
        "# print(new_lst)  \n",
        "\n",
        "\n",
        "lst1 = [2,4,5,8]\n",
        "new_lst = []\n",
        "for i in range(len(lst1)-1, -1, -1):\n",
        "  new_lst.append(lst1[i])\n",
        "print(new_lst)"
      ],
      "metadata": {
        "colab": {
          "base_uri": "https://localhost:8080/"
        },
        "id": "y4D56yw71hlp",
        "outputId": "8c5ff378-5839-4c93-c2c4-3bd040f86316"
      },
      "execution_count": 42,
      "outputs": [
        {
          "output_type": "stream",
          "name": "stdout",
          "text": [
            "[8, 5, 4, 2]\n"
          ]
        }
      ]
    },
    {
      "cell_type": "code",
      "source": [
        "#Write a Python function to reverse a list at a specific location.\n",
        "list1 = [1,5,6,7]\n",
        "largest = list1[0]\n",
        "for num in list1:\n",
        "  if  num > largest:\n",
        "    largest = num\n",
        "print(largest)"
      ],
      "metadata": {
        "id": "mcr1WkppyMqT"
      },
      "execution_count": null,
      "outputs": []
    },
    {
      "cell_type": "code",
      "source": [
        "#write a code of even number generator'\n",
        "def Even_num_GEN(num):\n",
        "  empt_list=[]\n",
        "  if num % 2 == 0:\n",
        "    print(\"True\")\n",
        "    empt_list.append(num)\n",
        "  return empt_list  \n",
        "\n",
        "Even_num_GEN(2)"
      ],
      "metadata": {
        "colab": {
          "base_uri": "https://localhost:8080/"
        },
        "id": "gDD7YfbIoBsW",
        "outputId": "7823abbc-dc06-4f77-92fa-12fe8000eb42"
      },
      "execution_count": null,
      "outputs": [
        {
          "output_type": "stream",
          "name": "stdout",
          "text": [
            "True\n"
          ]
        },
        {
          "output_type": "execute_result",
          "data": {
            "text/plain": [
              "[2]"
            ]
          },
          "metadata": {},
          "execution_count": 8
        }
      ]
    },
    {
      "cell_type": "code",
      "source": [
        "#write a code of primr number generator'\n",
        "def Even_num_GEN(num):\n",
        "  empt_list=[]\n",
        "  if num < 0:\n",
        "    return False\n",
        "  elif num == 1:\n",
        "    return True  \n",
        "  elif num % 2 == 0:\n",
        "    return False \n",
        "  for i in range(3,int(num**0.5)+1,2):\n",
        "    print(range(3,int(num**0.5)+1,2))\n",
        "    if num % i == 0:\n",
        "      return False\n",
        "\n",
        "  return True  \n",
        "        \n",
        "  # empt_list.append(num)   \n",
        "  # return empt_list  \n",
        "\n",
        "Even_num_GEN(31)"
      ],
      "metadata": {
        "colab": {
          "base_uri": "https://localhost:8080/"
        },
        "id": "siNPuf-ppb7X",
        "outputId": "0e2c78e2-f190-4ee5-d3a5-af0bd4cf127f"
      },
      "execution_count": null,
      "outputs": [
        {
          "output_type": "stream",
          "name": "stdout",
          "text": [
            "range(3, 6, 2)\n",
            "range(3, 6, 2)\n"
          ]
        },
        {
          "output_type": "execute_result",
          "data": {
            "text/plain": [
              "True"
            ]
          },
          "metadata": {},
          "execution_count": 51
        }
      ]
    },
    {
      "cell_type": "code",
      "source": [
        "# write a code for even number generator,\n",
        "def even_num(num):\n",
        "  new_list = []\n",
        "  for i in range(2, num,2):\n",
        "    if i% 2 == 0:\n",
        "      new_list.append(i) \n",
        "  return new_list\n",
        "\n",
        "lst = 13\n",
        "even_num(lst)\n"
      ],
      "metadata": {
        "colab": {
          "base_uri": "https://localhost:8080/"
        },
        "id": "sGBtyyZy4Ulf",
        "outputId": "d491ae9e-1027-4647-9e3e-1fffd1f5c0bb"
      },
      "execution_count": 50,
      "outputs": [
        {
          "output_type": "execute_result",
          "data": {
            "text/plain": [
              "[2, 4, 6, 8, 10, 12]"
            ]
          },
          "metadata": {},
          "execution_count": 50
        }
      ]
    },
    {
      "cell_type": "code",
      "source": [
        "# write a code for odd number generator,\n",
        "def even_num(num):\n",
        "  new_list = []\n",
        "  for i in range(1, num,2):\n",
        "    if i%2 != 0:\n",
        "      new_list.append(i) \n",
        "  return new_list\n",
        "\n",
        "lst = 13\n",
        "even_num(lst)\n"
      ],
      "metadata": {
        "colab": {
          "base_uri": "https://localhost:8080/"
        },
        "id": "acd4x8T15sM5",
        "outputId": "dbe79acb-ad01-4ca6-bcbd-44490e281adc"
      },
      "execution_count": 54,
      "outputs": [
        {
          "output_type": "execute_result",
          "data": {
            "text/plain": [
              "[1, 3, 5, 7, 9, 11]"
            ]
          },
          "metadata": {},
          "execution_count": 54
        }
      ]
    },
    {
      "cell_type": "code",
      "source": [
        "#  factiorial\n",
        " "
      ],
      "metadata": {
        "id": "9nyln5RSiEkl"
      },
      "execution_count": 48,
      "outputs": []
    },
    {
      "cell_type": "code",
      "source": [
        "# write a code for aven number generator, factiorial\n",
        "\n",
        "def Odd_Gn(num):\n",
        "  list1=[]\n",
        "  for i in range(1, num+1, 2):\n",
        "    # print(range(1, num+1, 2))\n",
        "    # print(i)\n",
        "    list1.append(i)\n",
        "  return list1\n",
        "    # if num % i != 0:\n",
        "    #   return True\n",
        "      \n",
        "\n",
        "Odd_Gn(6) "
      ],
      "metadata": {
        "colab": {
          "base_uri": "https://localhost:8080/"
        },
        "id": "YTYG3OhAkshY",
        "outputId": "9eab352b-f769-4094-94c6-20a85c95e37b"
      },
      "execution_count": null,
      "outputs": [
        {
          "output_type": "execute_result",
          "data": {
            "text/plain": [
              "[1, 3, 5]"
            ]
          },
          "metadata": {},
          "execution_count": 40
        }
      ]
    },
    {
      "cell_type": "code",
      "source": [
        "def Even(num):\n",
        "  list2 = []\n",
        "  for i in range(2,num+1,2):\n",
        "    list2.append(i)\n",
        "\n",
        "  return list2\n",
        "\n",
        "Even(9)    "
      ],
      "metadata": {
        "colab": {
          "base_uri": "https://localhost:8080/"
        },
        "id": "vPIDNmohp3Fq",
        "outputId": "cb992dce-1f45-41cf-86f1-7ae67188c2be"
      },
      "execution_count": null,
      "outputs": [
        {
          "output_type": "execute_result",
          "data": {
            "text/plain": [
              "[2, 4, 6, 8]"
            ]
          },
          "metadata": {},
          "execution_count": 42
        }
      ]
    },
    {
      "cell_type": "code",
      "source": [
        "n = int(input(\"Enter a positive integer: \"))\n",
        "even_numbers = range(2, n+1, 2)\n",
        "\n",
        "print(\"Even numbers from 2 to\", n, \"are:\")\n",
        "for num in even_numbers:\n",
        "    print(num)"
      ],
      "metadata": {
        "colab": {
          "base_uri": "https://localhost:8080/"
        },
        "id": "JTgTZqNjrYmc",
        "outputId": "db68b438-3d24-4d26-926f-b562668fc752"
      },
      "execution_count": null,
      "outputs": [
        {
          "output_type": "stream",
          "name": "stdout",
          "text": [
            "Enter a positive integer: 13\n",
            "Even numbers from 2 to 13 are:\n",
            "2\n",
            "4\n",
            "6\n",
            "8\n",
            "10\n",
            "12\n"
          ]
        }
      ]
    },
    {
      "cell_type": "code",
      "source": [
        "n = int(input(\"Enter a positive integer: \"))\n",
        "odd_numbers = range(1, n+1, 2)\n",
        "\n",
        "print(\"Odd numbers from 1 to\", n, \"are:\")\n",
        "for num in odd_numbers:\n",
        "    print(num)"
      ],
      "metadata": {
        "colab": {
          "base_uri": "https://localhost:8080/"
        },
        "id": "NzmgenHsoE5B",
        "outputId": "4841e851-bac6-440c-cb09-f27d0d54ada6"
      },
      "execution_count": null,
      "outputs": [
        {
          "output_type": "stream",
          "name": "stdout",
          "text": [
            "Enter a positive integer: 13\n",
            "Odd numbers from 1 to 13 are:\n",
            "1\n",
            "3\n",
            "5\n",
            "7\n",
            "9\n",
            "11\n",
            "13\n"
          ]
        }
      ]
    },
    {
      "cell_type": "code",
      "source": [
        "# Write a code for n!\n",
        "# 4!= 4x3x2x1\n",
        "def factorial_num(n):\n",
        "  factorial = 1\n",
        "  for i in range(1,n+1):\n",
        "    # print(i)\n",
        "    a = factorial * i\n",
        "    print(\"a\",a)\n",
        "    b = factorial * i\n",
        "    print(\"b\",b)\n",
        "    c = factorial * i\n",
        "    print(\"c\",c)\n",
        "    d = factorial * i\n",
        "    print(\"d\",d)\n",
        "    a = (a*b*c*d)\n",
        "  return a    \n",
        "  \n",
        "\n",
        "\n",
        "\n",
        "\n",
        "factorial_num(4)  "
      ],
      "metadata": {
        "colab": {
          "base_uri": "https://localhost:8080/"
        },
        "id": "WijQYaPSrGWc",
        "outputId": "abfb6d0b-6755-4683-ccea-01eb88cdb342"
      },
      "execution_count": null,
      "outputs": [
        {
          "output_type": "stream",
          "name": "stdout",
          "text": [
            "a 1\n",
            "b 1\n",
            "c 1\n",
            "d 1\n",
            "a 2\n",
            "b 2\n",
            "c 2\n",
            "d 2\n",
            "a 3\n",
            "b 3\n",
            "c 3\n",
            "d 3\n",
            "a 4\n",
            "b 4\n",
            "c 4\n",
            "d 4\n"
          ]
        },
        {
          "output_type": "execute_result",
          "data": {
            "text/plain": [
              "256"
            ]
          },
          "metadata": {},
          "execution_count": 50
        }
      ]
    },
    {
      "cell_type": "code",
      "source": [
        "# Write a code for n!\n",
        "def fact(n):\n",
        "  fa=1\n",
        "  while(n>1):\n",
        "    fa = fa * n\n",
        "    n = n -1\n",
        "  return fa\n",
        "\n",
        "fact(4)    \n"
      ],
      "metadata": {
        "colab": {
          "base_uri": "https://localhost:8080/"
        },
        "id": "4U7S0XMr8Uo5",
        "outputId": "c359586c-64e2-4ff9-b2b2-65715c5277a5"
      },
      "execution_count": null,
      "outputs": [
        {
          "output_type": "execute_result",
          "data": {
            "text/plain": [
              "24"
            ]
          },
          "metadata": {},
          "execution_count": 52
        }
      ]
    },
    {
      "cell_type": "code",
      "source": [
        "# Extract the odd numbers\n",
        "list1 = [1,3,4,6,7,8,9]\n",
        "odd_list = []\n",
        "for n in list1:\n",
        "    if n %2!=0:\n",
        "      odd_list.append(n)\n",
        "odd_list      "
      ],
      "metadata": {
        "colab": {
          "base_uri": "https://localhost:8080/"
        },
        "id": "3tYD0n13BIlf",
        "outputId": "b5f12a74-e312-4ebe-bdf2-bcb2a671e7ee"
      },
      "execution_count": 57,
      "outputs": [
        {
          "output_type": "execute_result",
          "data": {
            "text/plain": [
              "[1, 3, 7, 9]"
            ]
          },
          "metadata": {},
          "execution_count": 57
        }
      ]
    },
    {
      "cell_type": "code",
      "source": [
        "# Extract the even numbers\n",
        "list2 = [1,3,4,6,7,8,9]\n",
        "odd_list = []\n",
        "for n in list2:\n",
        "    if n %2==0:\n",
        "      odd_list.append(n)\n",
        "odd_list  "
      ],
      "metadata": {
        "colab": {
          "base_uri": "https://localhost:8080/"
        },
        "id": "0BBTdTJVBk-S",
        "outputId": "6ec7d58c-02c0-4cb8-ae5f-4f1beaafa749"
      },
      "execution_count": 58,
      "outputs": [
        {
          "output_type": "execute_result",
          "data": {
            "text/plain": [
              "[4, 6, 8]"
            ]
          },
          "metadata": {},
          "execution_count": 58
        }
      ]
    },
    {
      "cell_type": "code",
      "source": [
        "# Write a Python program to count the number of characters (character frequency) in a string. Go to the editor\n",
        "# Sample String : google.com'\n",
        "# Expected Result : {'g': 2, 'o': 3, 'l': 1, 'e': 1, '.': 1, 'c': 1, 'm': 1}\n",
        "\n",
        "def char_count(string):\n",
        "  char_dict={}\n",
        "  for char in string:\n",
        "    if char in char_dict: \n",
        "      char_dict[char]=char_dict[char]+1\n",
        "    else:\n",
        "      char_dict[char] = 1\n",
        "  return char_dict\n",
        "\n",
        "\n",
        "char_count(\"naveed\")          "
      ],
      "metadata": {
        "colab": {
          "base_uri": "https://localhost:8080/"
        },
        "id": "PBaym6ncEpdI",
        "outputId": "7d9d490c-cfe0-4e83-b798-32025f3ab97e"
      },
      "execution_count": null,
      "outputs": [
        {
          "output_type": "execute_result",
          "data": {
            "text/plain": [
              "{'n': 1, 'a': 1, 'v': 1, 'e': 2, 'd': 1}"
            ]
          },
          "metadata": {},
          "execution_count": 18
        }
      ]
    },
    {
      "cell_type": "code",
      "source": [
        "def char_count(string):\n",
        "  char_dict={}\n",
        "  for char in string:\n",
        "    if char in char_dict:\n",
        "      char_dict[char] = char_dict[char] +1\n",
        "    else:\n",
        "      char_dict[char] = 1\n",
        "  return char_dict   \n",
        "\n",
        "char_count(\"naveeddd\")       "
      ],
      "metadata": {
        "colab": {
          "base_uri": "https://localhost:8080/"
        },
        "id": "CUsQ2cRy8O9I",
        "outputId": "75ce19e4-3903-41ab-9f13-9c51bac1d858"
      },
      "execution_count": 63,
      "outputs": [
        {
          "output_type": "execute_result",
          "data": {
            "text/plain": [
              "{'n': 1, 'a': 1, 'v': 1, 'e': 2, 'd': 3}"
            ]
          },
          "metadata": {},
          "execution_count": 63
        }
      ]
    },
    {
      "cell_type": "code",
      "source": [
        "def count_chars(string):\n",
        "    char_frequency = {}\n",
        "    for char in string:\n",
        "        if char in char_frequency:\n",
        "            char_frequency[char] += 1\n",
        "        else:\n",
        "            char_frequency[char] = 1\n",
        "    return char_frequency"
      ],
      "metadata": {
        "id": "HcIDQiikVRnn"
      },
      "execution_count": null,
      "outputs": []
    },
    {
      "cell_type": "code",
      "source": [
        "# Write a program to obtain a sqrt of given number\n",
        "from numpy import sqrt\n",
        "def sqrt_num(a):\n",
        "  return sqrt(a)\n",
        "\n",
        "sqrt_num(9)"
      ],
      "metadata": {
        "colab": {
          "base_uri": "https://localhost:8080/"
        },
        "outputId": "0cb60918-54db-40e6-fde9-c0ad31453121",
        "id": "KqzO6bboEp9j"
      },
      "execution_count": null,
      "outputs": [
        {
          "output_type": "execute_result",
          "data": {
            "text/plain": [
              "3.0"
            ]
          },
          "metadata": {},
          "execution_count": 6
        }
      ]
    },
    {
      "cell_type": "code",
      "source": [
        "# Write a Python program to get a string made of the first 2 and last 2 characters of a given string. If the string length is less than 2, return the empty string instead. Go to the editor\n",
        "# Sample String : 'w3resource'\n",
        "# Expected Result : 'w3ce'\n",
        "# Sample String : 'w3'\n",
        "# Expected Result : 'w3w3'\n",
        "# Sample String : ' w'\n",
        "# Expected Result : Empty String\n",
        "\n",
        "# a='w3resource'\n",
        "# a[:2]+a[-2:]\n",
        "def art(string):\n",
        "  if len(string)<2:\n",
        "    return ''\n",
        "  else:\n",
        "    return string[:2] +string[-2:]\n",
        "\n",
        "\n",
        "print(art('w'))\n",
        "\n",
        "   \n",
        "\n"
      ],
      "metadata": {
        "colab": {
          "base_uri": "https://localhost:8080/"
        },
        "id": "WEQHrdGta2Lf",
        "outputId": "fd844e65-3447-4ab6-c538-755c8f09fac5"
      },
      "execution_count": null,
      "outputs": [
        {
          "output_type": "stream",
          "name": "stdout",
          "text": [
            "\n"
          ]
        }
      ]
    },
    {
      "cell_type": "code",
      "source": [
        "# Write a Python program to get a string from a given string where all occurrences of its first char have been changed to '$', except the first char itself. Go to the editor\n",
        "# Sample String : 'restart'\n",
        "# Expected Result : 'resta$t"
      ],
      "metadata": {
        "id": "Rg8rmOBcQs0u"
      },
      "execution_count": null,
      "outputs": []
    },
    {
      "cell_type": "code",
      "source": [
        "# Given a list of integer, write a function to return the maximum value.\n",
        "\n",
        "def maxim_valu(l):\n",
        "  max_value = l[0]\n",
        "  for elmt in l:\n",
        "    if elmt > max_value:\n",
        "      max_value = elmt\n",
        "  return max_value\n",
        "  \n",
        "\n",
        "\n",
        "l= [1,2,5,4]\n",
        "maxim_valu(l)\n"
      ],
      "metadata": {
        "colab": {
          "base_uri": "https://localhost:8080/"
        },
        "id": "O9JrULMrQvWN",
        "outputId": "338de059-283d-45fd-e846-878066c6fff5"
      },
      "execution_count": null,
      "outputs": [
        {
          "output_type": "execute_result",
          "data": {
            "text/plain": [
              "5"
            ]
          },
          "metadata": {},
          "execution_count": 6
        }
      ]
    },
    {
      "cell_type": "code",
      "source": [
        "# Given a list of integer, write a function to return the manimum value.\n",
        "\n",
        "def min_value(l):\n",
        "  min_value = l[0]\n",
        "  for elmt in l:\n",
        "    if elmt < min_value:\n",
        "      min_value = elmt\n",
        "  return min_value    \n",
        "\n",
        "\n",
        "\n",
        "l1= [9,15,30,6]\n",
        "min_value(l1)\n",
        "\n"
      ],
      "metadata": {
        "colab": {
          "base_uri": "https://localhost:8080/"
        },
        "id": "w6fWhs9SMXLm",
        "outputId": "da5b2f54-ca13-4b90-cef3-1ceab0ba6eb0"
      },
      "execution_count": null,
      "outputs": [
        {
          "output_type": "execute_result",
          "data": {
            "text/plain": [
              "6"
            ]
          },
          "metadata": {},
          "execution_count": 9
        }
      ]
    },
    {
      "cell_type": "code",
      "source": [
        "palindrome_str= 'naveed'\n",
        "print(palindrome_str[:-1]) \n",
        "print(palindrome_str[:1])\n",
        "\n",
        "\n",
        "print(palindrome_str[-1:]) \n",
        "print(palindrome_str[1:])"
      ],
      "metadata": {
        "colab": {
          "base_uri": "https://localhost:8080/"
        },
        "id": "SzVyg_3_Qk0o",
        "outputId": "5c7f25d5-4b8c-46a0-a2c0-c445dae34633"
      },
      "execution_count": null,
      "outputs": [
        {
          "output_type": "stream",
          "name": "stdout",
          "text": [
            "navee\n",
            "n\n",
            "d\n",
            "aveed\n"
          ]
        }
      ]
    },
    {
      "cell_type": "code",
      "source": [
        "# write a function to check if a given string is palindrome\n",
        "# palindrome_str= 'nadeem'\n",
        "# palindrome_str[::]\n",
        "\n",
        "def pal_fun(string):\n",
        "  if string == string[::-1]:\n",
        "    return True\n",
        "  else:\n",
        "    return False  \n",
        "\n",
        "palindrome_str= 'level'\n",
        "pal_fun(palindrome_str) "
      ],
      "metadata": {
        "colab": {
          "base_uri": "https://localhost:8080/"
        },
        "id": "m-SNiRppQvMu",
        "outputId": "46ce7641-f13f-4ae1-d3b8-d3abf1c358f9"
      },
      "execution_count": null,
      "outputs": [
        {
          "output_type": "execute_result",
          "data": {
            "text/plain": [
              "True"
            ]
          },
          "metadata": {},
          "execution_count": 12
        }
      ]
    },
    {
      "cell_type": "code",
      "source": [
        "#write a function to check if a given number is prime or not.\n",
        "\n",
        "def prime_check(a):\n",
        "  if a < 1:\n",
        "    return False\n",
        "  elif a % 2 == 0:\n",
        "    return False \n",
        "  else:\n",
        "    for i in range(3,int(a**0.5),2):\n",
        "      if a % i == 0:\n",
        "        return False\n",
        "  \n",
        "    return True\n",
        "\n",
        "a= 5\n",
        "prime_check(a)  "
      ],
      "metadata": {
        "id": "Nb4MpIR6QvD3",
        "colab": {
          "base_uri": "https://localhost:8080/"
        },
        "outputId": "d2c28833-f024-4100-8382-887d9e6121b1"
      },
      "execution_count": null,
      "outputs": [
        {
          "output_type": "execute_result",
          "data": {
            "text/plain": [
              "True"
            ]
          },
          "metadata": {},
          "execution_count": 43
        }
      ]
    },
    {
      "cell_type": "code",
      "source": [
        "# write a function to remove all duplicate from a list\n",
        "# print(range(3,int(25**0.5),2))\n",
        "# l=[1,1,2,2,3,4,5]\n",
        "# l.count(1)\n",
        "empty_list= []\n",
        "def remove_dup(l):\n",
        "  for elmt in l:\n",
        "    if l.count(elmt)==1:\n",
        "      empty_list.append(elmt)\n",
        "  return empty_list\n",
        "\n",
        "l = [1,1,2,3,4,4,5,5]\n",
        "print(remove_dup(l))"
      ],
      "metadata": {
        "colab": {
          "base_uri": "https://localhost:8080/"
        },
        "id": "at9tY-GVd8NT",
        "outputId": "071917ad-eb16-4353-e98b-9a19eb197178"
      },
      "execution_count": null,
      "outputs": [
        {
          "output_type": "stream",
          "name": "stdout",
          "text": [
            "[2, 3]\n"
          ]
        }
      ]
    },
    {
      "cell_type": "code",
      "source": [
        "# write a function to remove duplicate from a list\n",
        "\n",
        "def remove_dup1(lst):\n",
        "  new_list1=[]\n",
        "  for item in lst:\n",
        "    if item not in new_list1:\n",
        "      new_list1.append(item)\n",
        "      \n",
        "  return new_list1   \n",
        "\n",
        "\n",
        "\n",
        "lst = [1, 2, 3, 4, 3, 2, 1]\n",
        "new_lst = remove_dup1(lst)\n",
        "print(new_lst)  # Output: [1, 2, 3, 4]  "
      ],
      "metadata": {
        "id": "N_lcSx1lRbHp",
        "colab": {
          "base_uri": "https://localhost:8080/"
        },
        "outputId": "b3122a25-d1c9-4f28-bc3b-535e37e9153b"
      },
      "execution_count": null,
      "outputs": [
        {
          "output_type": "stream",
          "name": "stdout",
          "text": [
            "[1, 2, 3, 4]\n"
          ]
        }
      ]
    },
    {
      "cell_type": "code",
      "source": [
        "\n",
        "# Program to count the total number of characters in a string\n",
        "a = \"I am n\"\n",
        "count = 0\n",
        "for indx in range(0,len(a)):\n",
        "  if a[indx] !=\" \":\n",
        "    count = count+1\n",
        "print(count)  "
      ],
      "metadata": {
        "id": "JyL9omHhRg3j",
        "colab": {
          "base_uri": "https://localhost:8080/"
        },
        "outputId": "d8030a3f-bc00-47e9-ca2e-32f1eefc0f90"
      },
      "execution_count": null,
      "outputs": [
        {
          "output_type": "stream",
          "name": "stdout",
          "text": [
            "4\n"
          ]
        }
      ]
    },
    {
      "cell_type": "code",
      "source": [
        "# Given a string, write a function to count the number of vowevels= (aeiou).\n",
        "\n",
        "def count_vowevels(string):\n",
        "  count=0\n",
        "  for indx in range(0, len(string)):\n",
        "    if string[indx] == 'a':\n",
        "      count= count+1\n",
        "    elif string[indx] == 'e':  \n",
        "      count= count+1\n",
        "    if string[indx] == 'i':\n",
        "      count= count+1\n",
        "    elif string[indx] == 'o':  \n",
        "      count= count+1\n",
        "    elif string[indx] == 'u':  \n",
        "      count= count+1\n",
        "\n",
        "  return count\n",
        "a = \"aeiouu\"\n",
        "print(count_vowevels(a))"
      ],
      "metadata": {
        "colab": {
          "base_uri": "https://localhost:8080/"
        },
        "id": "9J-0-z0VuMMU",
        "outputId": "48011e71-3332-4778-c283-fe28b77e32c9"
      },
      "execution_count": null,
      "outputs": [
        {
          "output_type": "stream",
          "name": "stdout",
          "text": [
            "6\n"
          ]
        }
      ]
    },
    {
      "cell_type": "code",
      "source": [
        "# Given a string, write a function to count the number of vowevels= (aeiou).\n",
        "\n",
        "def count_vowevel(string):\n",
        "  count=0\n",
        "  vowevels = 'aeiou'\n",
        "  for char in string:\n",
        "    if char in vowevels:\n",
        "      count = count +1\n",
        "  return count\n",
        "\n",
        "\n",
        "print(count_vowevel(\"aeibbb\"))"
      ],
      "metadata": {
        "colab": {
          "base_uri": "https://localhost:8080/"
        },
        "id": "qB-_KSoLxX9f",
        "outputId": "ca6a8870-e3a7-4518-d757-c5c62708dd58"
      },
      "execution_count": null,
      "outputs": [
        {
          "output_type": "stream",
          "name": "stdout",
          "text": [
            "3\n"
          ]
        }
      ]
    },
    {
      "cell_type": "code",
      "source": [
        "# write a function to check if a given list is sorted in non-decreasing order (increasing order)\n",
        "\n",
        "def list_increas(lst):\n",
        "  for indx in range(len(lst)-1):\n",
        "    if lst[indx] < lst[indx+1]:\n",
        "      return True\n",
        "  return False\n",
        "\n",
        "\n",
        "lst = [1,2,3,4]\n",
        "list_increas(lst)  "
      ],
      "metadata": {
        "id": "H9Nl4Ma0Rgzk",
        "colab": {
          "base_uri": "https://localhost:8080/"
        },
        "outputId": "12a42e5a-5579-49da-ef27-5e72ac9a9f14"
      },
      "execution_count": null,
      "outputs": [
        {
          "output_type": "execute_result",
          "data": {
            "text/plain": [
              "True"
            ]
          },
          "metadata": {},
          "execution_count": 79
        }
      ]
    },
    {
      "cell_type": "code",
      "source": [
        "# Given two strings, write a function to check if they are anagrams (\"abcfu\"=\"fubca\")\n",
        "\n",
        "def anagr(strng1, strng2):\n",
        "  strng1 = strng1.lower()\n",
        "  strng2 = strng2.lower()\n",
        "  str1_chars = list(strng1)\n",
        "  str2_chars = list(strng2)\n",
        "  str1_chars = sorted(strng1)\n",
        "  str2_chars = sorted(strng2)\n",
        "\n",
        "  print(str1_chars,str2_chars)\n",
        "  if str1_chars == str2_chars:\n",
        "    return True\n",
        "  else:\n",
        "    return False       \n",
        "\n",
        "\n",
        "strng1 = \"level\"\n",
        "strng2 = \"velleredonf\"\n",
        "anagr(strng1,strng2)  "
      ],
      "metadata": {
        "id": "mk7K7vxVRgrW",
        "colab": {
          "base_uri": "https://localhost:8080/"
        },
        "outputId": "5fbdba08-7580-4c51-b76a-43d487a54441"
      },
      "execution_count": null,
      "outputs": [
        {
          "output_type": "stream",
          "name": "stdout",
          "text": [
            "['e', 'e', 'l', 'l', 'v'] ['d', 'e', 'e', 'e', 'f', 'l', 'l', 'n', 'o', 'r', 'v']\n"
          ]
        },
        {
          "output_type": "execute_result",
          "data": {
            "text/plain": [
              "False"
            ]
          },
          "metadata": {},
          "execution_count": 106
        }
      ]
    },
    {
      "cell_type": "code",
      "source": [
        "# write a function to calculate the factorial of a given number.\n",
        "\n",
        "def factor1(a):\n",
        "  fact = 1\n",
        "  while a>0:\n",
        "    fact = fact * a\n",
        "    a= a-1\n",
        "  return fact\n",
        "  \n",
        "\n",
        "\n",
        "#4!= 4x3x2x1\n",
        "print(factor1(4))"
      ],
      "metadata": {
        "id": "oBE46H4pRgoe",
        "colab": {
          "base_uri": "https://localhost:8080/"
        },
        "outputId": "4314fa5c-0033-45d8-9c4f-22e30656bdd4"
      },
      "execution_count": null,
      "outputs": [
        {
          "output_type": "stream",
          "name": "stdout",
          "text": [
            "24\n"
          ]
        }
      ]
    },
    {
      "cell_type": "code",
      "source": [
        "# write a function to find the second largest number in a list\n",
        "\n",
        "def second_largest_num(lst):\n",
        "  largest=lst[0]\n",
        "  scnd_largest = 0\n",
        "  for item in lst:\n",
        "    if item > largest:\n",
        "      scnd_largest = largest\n",
        "      largest = item\n",
        "\n",
        "\n",
        "    elif item > scnd_largest:\n",
        "      scnd_largest = item\n",
        "\n",
        "\n",
        "\n",
        "\n",
        "\n",
        "  return scnd_largest\n",
        "\n",
        "\n",
        "lst = [1,2,400,5,6,100,1000]\n",
        "second_largest_num(lst)  \n",
        "\n",
        "\n"
      ],
      "metadata": {
        "id": "PZLPAplURgmZ",
        "colab": {
          "base_uri": "https://localhost:8080/"
        },
        "outputId": "cd049dc3-2eb3-4ae9-9f5a-1ebfa07ed4e1"
      },
      "execution_count": 65,
      "outputs": [
        {
          "output_type": "execute_result",
          "data": {
            "text/plain": [
              "400"
            ]
          },
          "metadata": {},
          "execution_count": 65
        }
      ]
    },
    {
      "cell_type": "code",
      "source": [
        "# Given a list of integers, write a function to find the sum of all even numbers\n",
        "\n",
        "def sum_of_even(lst):\n",
        "  count = 0\n",
        "  for item in lst:\n",
        "    if item % 2 == 0:\n",
        "      count = count + item\n",
        "\n",
        "  return count   \n",
        "\n",
        "\n",
        "\n",
        "\n",
        "lst1 = [2,3,4,5,8,3,5]\n",
        "sum_of_even(lst1)    "
      ],
      "metadata": {
        "id": "byVHZ_LtRgit",
        "colab": {
          "base_uri": "https://localhost:8080/"
        },
        "outputId": "6e4917f7-ebd7-4ddf-88a7-1e4a0a43537f"
      },
      "execution_count": null,
      "outputs": [
        {
          "output_type": "execute_result",
          "data": {
            "text/plain": [
              "14"
            ]
          },
          "metadata": {},
          "execution_count": 123
        }
      ]
    },
    {
      "cell_type": "code",
      "source": [
        "# write a function to find the median of a given list of numbers\n",
        "# Median = {(n + 1) / 2}th value, where n is the number of values in a set of data.\n",
        "a= [1,2,3,4,5]\n",
        "a= sorted(a)\n",
        "a.median(a)"
      ],
      "metadata": {
        "id": "WzQYp-SSRged",
        "colab": {
          "base_uri": "https://localhost:8080/",
          "height": 207
        },
        "outputId": "7f2d692c-4e7d-461e-c49f-ef702cdbf0fd"
      },
      "execution_count": null,
      "outputs": [
        {
          "output_type": "error",
          "ename": "AttributeError",
          "evalue": "ignored",
          "traceback": [
            "\u001b[0;31m---------------------------------------------------------------------------\u001b[0m",
            "\u001b[0;31mAttributeError\u001b[0m                            Traceback (most recent call last)",
            "\u001b[0;32m<ipython-input-2-3eadae41d5ca>\u001b[0m in \u001b[0;36m<module>\u001b[0;34m\u001b[0m\n\u001b[1;32m      3\u001b[0m \u001b[0ma\u001b[0m\u001b[0;34m=\u001b[0m \u001b[0;34m[\u001b[0m\u001b[0;36m1\u001b[0m\u001b[0;34m,\u001b[0m\u001b[0;36m2\u001b[0m\u001b[0;34m,\u001b[0m\u001b[0;36m3\u001b[0m\u001b[0;34m,\u001b[0m\u001b[0;36m4\u001b[0m\u001b[0;34m,\u001b[0m\u001b[0;36m5\u001b[0m\u001b[0;34m]\u001b[0m\u001b[0;34m\u001b[0m\u001b[0;34m\u001b[0m\u001b[0m\n\u001b[1;32m      4\u001b[0m \u001b[0ma\u001b[0m\u001b[0;34m=\u001b[0m \u001b[0msorted\u001b[0m\u001b[0;34m(\u001b[0m\u001b[0ma\u001b[0m\u001b[0;34m)\u001b[0m\u001b[0;34m\u001b[0m\u001b[0;34m\u001b[0m\u001b[0m\n\u001b[0;32m----> 5\u001b[0;31m \u001b[0ma\u001b[0m\u001b[0;34m.\u001b[0m\u001b[0mmedian\u001b[0m\u001b[0;34m(\u001b[0m\u001b[0ma\u001b[0m\u001b[0;34m)\u001b[0m\u001b[0;34m\u001b[0m\u001b[0;34m\u001b[0m\u001b[0m\n\u001b[0m",
            "\u001b[0;31mAttributeError\u001b[0m: 'list' object has no attribute 'median'"
          ]
        }
      ]
    },
    {
      "cell_type": "code",
      "source": [
        "# a2b3c1= aaabbc\n",
        "# def a_fun(string):\n",
        "#   digit = 1\n",
        "#   result= ''\n",
        "#   for char in string:\n",
        "#     if char.isdigit():\n",
        "#       digit = int(char)\n",
        "#     else:\n",
        "#       result += char*digit  \n",
        "#       return result\n",
        "\n",
        "#   # return string\n",
        "\n",
        "def a_fun(string):\n",
        "  output = \"\"\n",
        "  digit = 1\n",
        "  for char in string:\n",
        "    if char.isalpha():\n",
        "      var = char\n",
        "    else:\n",
        "      output= output + int(char)*var\n",
        "  return output\n",
        "\n",
        "\n",
        "a_fun(\"a2b6\")  "
      ],
      "metadata": {
        "colab": {
          "base_uri": "https://localhost:8080/",
          "height": 36
        },
        "id": "h4FrvnZYh8Sx",
        "outputId": "d798ae67-6c5a-4e37-e032-cd84a5c76f04"
      },
      "execution_count": null,
      "outputs": [
        {
          "output_type": "execute_result",
          "data": {
            "text/plain": [
              "'aabbbbbb'"
            ],
            "application/vnd.google.colaboratory.intrinsic+json": {
              "type": "string"
            }
          },
          "metadata": {},
          "execution_count": 20
        }
      ]
    },
    {
      "cell_type": "code",
      "source": [
        "def ARG(*args):\n",
        "  for arg in args:\n",
        "    print(arg)\n",
        "\n",
        "ARG(1,\"jsdh\",[1,2,3],(1,2),{\"name\":\"naveed\"})\n"
      ],
      "metadata": {
        "colab": {
          "base_uri": "https://localhost:8080/"
        },
        "id": "G_Rbfc_a9QNy",
        "outputId": "784bb974-a2f3-4f58-c34c-7d1fe4d65dbc"
      },
      "execution_count": null,
      "outputs": [
        {
          "output_type": "stream",
          "name": "stdout",
          "text": [
            "1\n",
            "jsdh\n",
            "[1, 2, 3]\n",
            "(1, 2)\n",
            "{'name': 'naveed'}\n"
          ]
        }
      ]
    },
    {
      "cell_type": "code",
      "source": [
        "def ARG(**kwargs):\n",
        "  for key, value in kwargs.items():\n",
        "    print(key,value)\n",
        "\n",
        "ARG(a=3,lst=[1,2,3],tp=(1,5),dct={\"name\":\"naveed\"})\n"
      ],
      "metadata": {
        "colab": {
          "base_uri": "https://localhost:8080/"
        },
        "id": "1Z16Pho895Bl",
        "outputId": "19f72fc9-7fe0-4272-d627-44cb1dbcbd78"
      },
      "execution_count": null,
      "outputs": [
        {
          "output_type": "stream",
          "name": "stdout",
          "text": [
            "a 3\n",
            "lst [1, 2, 3]\n",
            "tp (1, 5)\n",
            "dct {'name': 'naveed'}\n"
          ]
        }
      ]
    },
    {
      "cell_type": "code",
      "source": [
        "import torch\n",
        "import torch.nn as nn\n",
        "\n",
        "import torch\n",
        "\n",
        "def create_model(input_size, output_size, *args):\n",
        "    layers = [input_size] + list(args) + [output_size]\n",
        "    print(layers)\n",
        "    modules = []\n",
        "    for i in range(len(layers)-1):\n",
        "        modules.append(torch.nn.Linear(layers[i], layers[i+1]))\n",
        "        \n",
        "        # modules.append(torch.nn.ReLU())\n",
        "    print(modules)    \n",
        "    model = torch.nn.Sequential(*modules)\n",
        "    return model\n",
        "\n",
        "model = create_model(784,10,64,32,16)\n",
        "# print(model)\n"
      ],
      "metadata": {
        "colab": {
          "base_uri": "https://localhost:8080/"
        },
        "id": "r9jXhTuXo8TA",
        "outputId": "ca822185-16bf-4aed-8b07-ce708afadfaf"
      },
      "execution_count": null,
      "outputs": [
        {
          "output_type": "stream",
          "name": "stdout",
          "text": [
            "[784, 64, 32, 16, 10]\n",
            "[Linear(in_features=784, out_features=64, bias=True), Linear(in_features=64, out_features=32, bias=True), Linear(in_features=32, out_features=16, bias=True), Linear(in_features=16, out_features=10, bias=True)]\n"
          ]
        }
      ]
    },
    {
      "cell_type": "code",
      "source": [
        "import numpy as np\n",
        "\n",
        "# Create a 2D array with shape (3, 4)\n",
        "a = np.array([[1, 2, 3, 4],\n",
        "              [5, 6, 7, 8],\n",
        "              [9, 10, 11, 12]])\n",
        "\n",
        "# Slice the first two rows and the first three columns\n",
        "b = a[:3,:4]\n",
        "print(b)\n",
        "a[:,0]\n",
        "# a[1,2]\n",
        "# Print the sliced array\n"
      ],
      "metadata": {
        "colab": {
          "base_uri": "https://localhost:8080/"
        },
        "id": "CLPZGV9g8IUd",
        "outputId": "32f14e5b-18a3-407d-8ed5-d82888b9d748"
      },
      "execution_count": 25,
      "outputs": [
        {
          "output_type": "stream",
          "name": "stdout",
          "text": [
            "[[ 1  2  3  4]\n",
            " [ 5  6  7  8]\n",
            " [ 9 10 11 12]]\n"
          ]
        },
        {
          "output_type": "execute_result",
          "data": {
            "text/plain": [
              "array([1, 5, 9])"
            ]
          },
          "metadata": {},
          "execution_count": 25
        }
      ]
    },
    {
      "cell_type": "code",
      "source": [
        "Given a list of integers, write a function to find the longest increasing subsequence"
      ],
      "metadata": {
        "id": "9TiKbgKNRgYR"
      },
      "execution_count": null,
      "outputs": []
    },
    {
      "cell_type": "code",
      "source": [
        "# write a function to check first non repeating character in a given string \n",
        "\n",
        "def non_repeat(string):\n",
        "  for char in string:\n",
        "    if char \n",
        "\n",
        "\n",
        "\n",
        "non_repeat('geeksforgeeks')"
      ],
      "metadata": {
        "id": "RL8xXmtLRgOu"
      },
      "execution_count": null,
      "outputs": []
    },
    {
      "cell_type": "code",
      "source": [
        "sssset = {1,2,3,4,58}\n",
        "sssset = set(sssset)\n",
        "sssset"
      ],
      "metadata": {
        "colab": {
          "base_uri": "https://localhost:8080/"
        },
        "id": "cA4qvUK6Qy8M",
        "outputId": "388c6357-5d5e-4854-f2d3-91599a8bd681"
      },
      "execution_count": 10,
      "outputs": [
        {
          "output_type": "execute_result",
          "data": {
            "text/plain": [
              "{1, 2, 3, 4, 58}"
            ]
          },
          "metadata": {},
          "execution_count": 10
        }
      ]
    },
    {
      "cell_type": "code",
      "source": [
        "fruits = {\"apple\", \"banana\", \"orange\", \"kiwi\", \"pineapple\",1,(1,2,4)}\n",
        "\n",
        "# Print the set\n",
        "print(fruits)"
      ],
      "metadata": {
        "colab": {
          "base_uri": "https://localhost:8080/"
        },
        "id": "VETFfDmmRPWR",
        "outputId": "ed23292d-a85c-439a-9d0c-a98b737955a1"
      },
      "execution_count": 14,
      "outputs": [
        {
          "output_type": "stream",
          "name": "stdout",
          "text": [
            "{1, 'kiwi', 'apple', 'banana', 'orange', 'pineapple', (1, 2, 4)}\n"
          ]
        }
      ]
    },
    {
      "cell_type": "code",
      "source": [
        "lst1 = [1,1,2,2,3,4]\n",
        "lst1=set(lst1)\n",
        "lst1"
      ],
      "metadata": {
        "colab": {
          "base_uri": "https://localhost:8080/"
        },
        "id": "3mwMkDfOSbzG",
        "outputId": "bf026837-5522-4b03-dfae-d608b752ae18"
      },
      "execution_count": 15,
      "outputs": [
        {
          "output_type": "execute_result",
          "data": {
            "text/plain": [
              "{1, 2, 3, 4}"
            ]
          },
          "metadata": {},
          "execution_count": 15
        }
      ]
    },
    {
      "cell_type": "code",
      "source": [
        "#Given a list of integers, write a function to find the pair of numbers that add up to a given target.\n",
        "\n",
        "def find_pair(lst1,target):\n",
        "  empty_list= []\n",
        "  for i in range(len(lst1)):\n",
        "    for j in range(i+1, len(lst1)):\n",
        "      if lst1[i]+lst1[j] == target:\n",
        "        empty_list.append((lst1[i],lst1[j]))\n",
        "  return empty_list      \n",
        "\n",
        "\n",
        "\n",
        "lst = [2, 7, 11, 15]\n",
        "target = 9\n",
        "result = find_pair(lst, target)\n",
        "print(result)  # prints [2, 7]"
      ],
      "metadata": {
        "id": "FMxp1C6tS9wu",
        "colab": {
          "base_uri": "https://localhost:8080/"
        },
        "outputId": "3ea4b1c2-af2e-4ae8-ee05-e08acc7290ab"
      },
      "execution_count": 21,
      "outputs": [
        {
          "output_type": "stream",
          "name": "stdout",
          "text": [
            "[(2, 7)]\n"
          ]
        }
      ]
    },
    {
      "cell_type": "code",
      "source": [
        "# Write a function to check if a given string contains only unique characters.\n",
        "def uniq_string(string):\n",
        "  for i in range(len(string)):\n",
        "    for j in range(i+1, len(string)):\n",
        "      if string[i] == string[j]:\n",
        "        return False\n",
        "  return True      \n",
        "\n",
        "\n",
        "string = \"avvvbcd\"\n",
        "uniq_string(string)  "
      ],
      "metadata": {
        "id": "gC3WkvUNS9uD",
        "colab": {
          "base_uri": "https://localhost:8080/"
        },
        "outputId": "ba210c1b-af94-4b87-b05a-4e616501d62b"
      },
      "execution_count": 24,
      "outputs": [
        {
          "output_type": "execute_result",
          "data": {
            "text/plain": [
              "False"
            ]
          },
          "metadata": {},
          "execution_count": 24
        }
      ]
    },
    {
      "cell_type": "code",
      "source": [
        "# Given a list of integers, write a function to find the maximum sum of any contiguous subarray \n"
      ],
      "metadata": {
        "id": "vUA4IZt1S9qw"
      },
      "execution_count": null,
      "outputs": []
    },
    {
      "cell_type": "code",
      "source": [
        "# write a function to check if a given string is a palindrome\n",
        "\n",
        "def check_palidrm(string):\n",
        "  if string == string[::-1]:\n",
        "    return True\n",
        "  return False  \n",
        "\n",
        "\n",
        "str1 = \"levelr\"\n",
        "check_palidrm(str1)  "
      ],
      "metadata": {
        "id": "lJDcSzRsS9nQ",
        "colab": {
          "base_uri": "https://localhost:8080/"
        },
        "outputId": "0e8927a6-2afa-454c-a879-0db9649b9fe8"
      },
      "execution_count": 26,
      "outputs": [
        {
          "output_type": "execute_result",
          "data": {
            "text/plain": [
              "False"
            ]
          },
          "metadata": {},
          "execution_count": 26
        }
      ]
    },
    {
      "cell_type": "code",
      "source": [
        "# Given a list of integers, write a function to find the second smallest number\n",
        "\n",
        "# def sec_small(lst1):\n",
        "#   small = lst1[0]\n",
        "#   scnd_smallest =1\n",
        "#   for item in lst1:\n",
        "#     if item < small:\n",
        "#       scnd_smallest=small\n",
        "#       small = item\n",
        "#     elif item < scnd_smallest:\n",
        "#       scnd_smallest=item \n",
        "#       return scnd_smallest    \n",
        "\n",
        "# lst1 = [2,3,5,6]\n",
        "# sec_small(lst1)  \n",
        "\n",
        "def sec_small(lst1):\n",
        "  small = lst1[0]\n",
        "  scnd_smallest = float('inf')  # Initialize to infinity\n",
        "  for item in lst1:\n",
        "    if item < small:\n",
        "      scnd_smallest = small\n",
        "      small = item\n",
        "    elif small < item < scnd_smallest:\n",
        "      scnd_smallest = item \n",
        "  return scnd_smallest    \n",
        "\n",
        "lst1 = [2, 3, 5, 6]\n",
        "print(sec_small(lst1))  # Output: 3"
      ],
      "metadata": {
        "id": "5CaqWTxTT85v",
        "colab": {
          "base_uri": "https://localhost:8080/"
        },
        "outputId": "8dbedecc-2cbc-4d56-8865-db2eb37e4608"
      },
      "execution_count": 66,
      "outputs": [
        {
          "output_type": "stream",
          "name": "stdout",
          "text": [
            "2\n"
          ]
        }
      ]
    },
    {
      "cell_type": "code",
      "source": [
        "# Write a function to count the number of words in a given string/list\n",
        "\n",
        "def count_words(string):\n",
        "  a = string.split( )\n",
        "  # print(a)\n",
        "  count = len(a) \n",
        "  return count \n",
        "\n",
        "\n",
        "string =\" I am hapy hay\"\n",
        "count_words(string)   "
      ],
      "metadata": {
        "id": "hxDnjtM7T83d",
        "colab": {
          "base_uri": "https://localhost:8080/"
        },
        "outputId": "da6aeab4-f6d9-491f-9b0c-3c2e79f85ecd"
      },
      "execution_count": 45,
      "outputs": [
        {
          "output_type": "execute_result",
          "data": {
            "text/plain": [
              "4"
            ]
          },
          "metadata": {},
          "execution_count": 45
        }
      ]
    },
    {
      "cell_type": "code",
      "source": [
        "# Given a list of integers, write a function to find the maximum product of any three numbers \n",
        "\n",
        "def max_pro_three(lst1):\n",
        "  lst1=sorted(lst1, reverse=True)\n",
        "  print(lst1)\n",
        "  fst = lst1[0]\n",
        "  scnd = lst1[1]\n",
        "  thrd = lst1[2] \n",
        "  # for \n",
        "  return fst *scnd * thrd\n",
        "lst2 = [2,3,4,1,1,1]\n",
        "print(max_pro_three(lst2))\n",
        "                   "
      ],
      "metadata": {
        "id": "GaB7mJP2T81L",
        "colab": {
          "base_uri": "https://localhost:8080/"
        },
        "outputId": "a185ddf9-925f-4b7c-9473-c956cf34bd7f"
      },
      "execution_count": 59,
      "outputs": [
        {
          "output_type": "stream",
          "name": "stdout",
          "text": [
            "[4, 3, 2, 1, 1, 1]\n",
            "24\n"
          ]
        }
      ]
    },
    {
      "cell_type": "code",
      "source": [
        "Given a list of integers, write a function to find the largest sum of any two non-overlapping subarrays."
      ],
      "metadata": {
        "id": "4FEFfQR-T8yN"
      },
      "execution_count": null,
      "outputs": []
    },
    {
      "cell_type": "code",
      "source": [
        "write a function to check if a given string is a valid palindrome after removing one character"
      ],
      "metadata": {
        "id": "5sbYCFsMT8vX"
      },
      "execution_count": null,
      "outputs": []
    },
    {
      "cell_type": "code",
      "source": [
        "Given a list of strings, write a function to find the longest commom prefix"
      ],
      "metadata": {
        "id": "a5Yn9WkMT8sb"
      },
      "execution_count": null,
      "outputs": []
    },
    {
      "cell_type": "code",
      "source": [
        "write a function to check if a given string is a valid IP address"
      ],
      "metadata": {
        "id": "2mG58A03WNFa"
      },
      "execution_count": null,
      "outputs": []
    },
    {
      "cell_type": "code",
      "source": [
        "Given a list of integers, write a function to find the smallest positive integer that does not appear in the list."
      ],
      "metadata": {
        "id": "tHhROweLWNja"
      },
      "execution_count": null,
      "outputs": []
    },
    {
      "cell_type": "code",
      "source": [
        "Given a list of integers and target sum, write a function to find all unique combinations of numbers that add up to target sum"
      ],
      "metadata": {
        "id": "uHrR1AaxWl9d"
      },
      "execution_count": null,
      "outputs": []
    },
    {
      "cell_type": "code",
      "source": [
        "Given a string and a dictionary of words, write a function to find all possible word break combinations"
      ],
      "metadata": {
        "id": "1pzK2czMWl5_"
      },
      "execution_count": null,
      "outputs": []
    },
    {
      "cell_type": "code",
      "source": [
        "write a function to find longest palindromic substring in a given string."
      ],
      "metadata": {
        "id": "lIDoGjufWl2-"
      },
      "execution_count": null,
      "outputs": []
    },
    {
      "cell_type": "code",
      "source": [
        "# write a function take a string and reverse it\n",
        "def reverse_str(strng):\n",
        "  revers_st= \"\"\n",
        "  for char in range(len(strng)-1,-1,-1):\n",
        "    print(range(len(strng)-1,-1,-1))\n",
        "    revers_st = revers_st + strng[char]\n",
        "  return revers_st  \n",
        "\n",
        "\n",
        "\n",
        "strng = \"naveed\"\n",
        "reverse_str(strng)  "
      ],
      "metadata": {
        "id": "d-G61BRfWlz-",
        "colab": {
          "base_uri": "https://localhost:8080/",
          "height": 145
        },
        "outputId": "231a9715-bd0a-4ffe-8072-ad99d624112d"
      },
      "execution_count": 64,
      "outputs": [
        {
          "output_type": "stream",
          "name": "stdout",
          "text": [
            "range(5, -1, -1)\n",
            "range(5, -1, -1)\n",
            "range(5, -1, -1)\n",
            "range(5, -1, -1)\n",
            "range(5, -1, -1)\n",
            "range(5, -1, -1)\n"
          ]
        },
        {
          "output_type": "execute_result",
          "data": {
            "text/plain": [
              "'deevan'"
            ],
            "application/vnd.google.colaboratory.intrinsic+json": {
              "type": "string"
            }
          },
          "metadata": {},
          "execution_count": 64
        }
      ]
    },
    {
      "cell_type": "code",
      "source": [
        "write a function that takes a list of integers and return two numbers that add up to a given target. if no such pair exist, return an empty list"
      ],
      "metadata": {
        "id": "GbbnmBE1WlxO"
      },
      "execution_count": null,
      "outputs": []
    },
    {
      "cell_type": "code",
      "source": [
        "write a function that takes a list of integers and returns the length of the longest increasing subsequence."
      ],
      "metadata": {
        "id": "Dy-S18msWluW"
      },
      "execution_count": null,
      "outputs": []
    },
    {
      "cell_type": "code",
      "source": [
        "# write a function that take two strings and returns whether or not they are anagrams (contain same letters in different order)\n",
        "\n",
        "def anagr_fun(str1,str2):\n",
        "  str1 = sorted(str1)\n",
        "  str2 = sorted(str2)\n",
        "  if str1 == str2:\n",
        "    return True\n",
        "  return False  \n",
        "\n",
        "\n",
        "\n",
        "str1 = \"abcd\"\n",
        "str2= \"dcbaqgf\"\n",
        "anagr_fun(str1,str2)\n"
      ],
      "metadata": {
        "id": "K3v1taomWlrP",
        "colab": {
          "base_uri": "https://localhost:8080/"
        },
        "outputId": "acac33c4-9c70-49f2-ae87-c72ce9ab5b25"
      },
      "execution_count": 68,
      "outputs": [
        {
          "output_type": "execute_result",
          "data": {
            "text/plain": [
              "False"
            ]
          },
          "metadata": {},
          "execution_count": 68
        }
      ]
    },
    {
      "cell_type": "code",
      "source": [
        "def fibonacci(n):\n",
        "    # Define the initial values of the sequence\n",
        "    a, b = 0, 1\n",
        "\n",
        "    # Loop until n values of the sequence have been generated\n",
        "    for i in range(n):\n",
        "        # Yield the current value of the sequence\n",
        "        yield a\n",
        "        # Calculate the next value of the sequence\n",
        "        a, b = b, a + b\n",
        "\n",
        "# Example usage\n",
        "for number in fibonacci(10):\n",
        "    print(number)"
      ],
      "metadata": {
        "id": "VNudBX2ore8o"
      },
      "execution_count": null,
      "outputs": []
    },
    {
      "cell_type": "code",
      "source": [
        "write a function that takes a list of intervals and merges overlapping intervals."
      ],
      "metadata": {
        "id": "UVt876K7Wlel"
      },
      "execution_count": null,
      "outputs": []
    }
  ]
}