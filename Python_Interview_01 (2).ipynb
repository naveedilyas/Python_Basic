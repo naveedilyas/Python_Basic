{
  "nbformat": 4,
  "nbformat_minor": 0,
  "metadata": {
    "colab": {
      "provenance": []
    },
    "kernelspec": {
      "name": "python3",
      "display_name": "Python 3"
    },
    "language_info": {
      "name": "python"
    }
  },
  "cells": [
    {
      "cell_type": "markdown",
      "source": [
        "What is the diffeence b/list and tuples?"
      ],
      "metadata": {
        "id": "f3e3KRjnmtXO"
      }
    },
    {
      "cell_type": "code",
      "execution_count": null,
      "metadata": {
        "id": "YHxatXS7mfSk"
      },
      "outputs": [],
      "source": [
        "# lists are mutable where tuples are immutable, list are computationalaly expensive, slow compare to tuple"
      ]
    },
    {
      "cell_type": "markdown",
      "source": [
        "What is decorator? Explain with an example?"
      ],
      "metadata": {
        "id": "gnzYoJpem6jL"
      }
    },
    {
      "cell_type": "code",
      "source": [
        "# Decorator is a function that takes another function or a class as an argument. Here is an example to understand the decorator.\n",
        "# In Python, a decorator is a special function that can modify or extend the behavior of another function or class without directly modifying its source code\n",
        "\n",
        "def my_decorator(func):\n",
        "  def wrapper():\n",
        "    print(\"before\")\n",
        "    func()\n",
        "    print(\"after\")\n",
        "\n",
        "  return wrapper   \n",
        "\n",
        "def my_function():\n",
        "  print(\"Hello World\")  \n",
        "\n",
        "decorated = my_decorator(my_function)\n",
        "decorated()"
      ],
      "metadata": {
        "colab": {
          "base_uri": "https://localhost:8080/"
        },
        "id": "VGoRNyzCnA2Y",
        "outputId": "7ea93e9e-44df-4411-b963-ab1af964ab78"
      },
      "execution_count": null,
      "outputs": [
        {
          "output_type": "stream",
          "name": "stdout",
          "text": [
            "before\n",
            "Hello World\n",
            "after\n"
          ]
        }
      ]
    },
    {
      "cell_type": "code",
      "source": [
        "def my_decorator(func):\n",
        "  def wrapper():\n",
        "    print(\"Before function\")\n",
        "    func()\n",
        "    print(\"After function\")\n",
        "\n",
        "  return wrapper\n",
        "\n",
        "@my_decorator\n",
        "def my_function():\n",
        "  print(\"Hello World\")\n",
        "\n",
        "my_function()"
      ],
      "metadata": {
        "colab": {
          "base_uri": "https://localhost:8080/"
        },
        "id": "XVH3MQ3nrFyD",
        "outputId": "e0cfcb6e-3b4a-4d5b-e072-c5cdade47b30"
      },
      "execution_count": null,
      "outputs": [
        {
          "output_type": "stream",
          "name": "stdout",
          "text": [
            "Before function\n",
            "Hello World\n",
            "After function\n"
          ]
        }
      ]
    },
    {
      "cell_type": "markdown",
      "source": [
        "What is the difference between list and dictionary comprehension?\n",
        "\n"
      ],
      "metadata": {
        "id": "1qwlitN0uv3f"
      }
    },
    {
      "cell_type": "code",
      "source": [
        "# A list comprehension produces a new list by iterating over an existing sequence and applying an operation to each element. \n",
        "# A list comprehnension produces a new list by iterationg an existing sequence and apply an operation on each element\n",
        "# A dictionary comprehenion produces new dictionary by iterating over existing ke and values and apply operation on each key and value\n",
        "\n",
        "lst = [1,2,3,4,5,6]\n",
        "new_list=[]\n",
        "[new_list.append(item) for item in lst]\n",
        "new_list"
      ],
      "metadata": {
        "colab": {
          "base_uri": "https://localhost:8080/"
        },
        "id": "YlTzZ8iNu33W",
        "outputId": "63585b9d-b9bd-48bf-b108-ab90e4bfc85e"
      },
      "execution_count": null,
      "outputs": [
        {
          "output_type": "execute_result",
          "data": {
            "text/plain": [
              "[1, 2, 3, 4, 5, 6]"
            ]
          },
          "metadata": {},
          "execution_count": 13
        }
      ]
    },
    {
      "cell_type": "code",
      "source": [
        "lst = [1,2,3,4,5,6]\n",
        "new_list=[]\n",
        "modified_list=[item**3 for item in lst]\n",
        "modified_list"
      ],
      "metadata": {
        "colab": {
          "base_uri": "https://localhost:8080/"
        },
        "id": "hTgu8ko0wv4y",
        "outputId": "94238575-07cb-4961-a332-ba9c4be0c899"
      },
      "execution_count": null,
      "outputs": [
        {
          "output_type": "execute_result",
          "data": {
            "text/plain": [
              "[1, 8, 27, 64, 125, 216]"
            ]
          },
          "metadata": {},
          "execution_count": 15
        }
      ]
    },
    {
      "cell_type": "code",
      "source": [
        "my_dict = {\"a\":2, \"b\":1,\"c\":7}\n",
        "{k:v*2for k, v in my_dict.items()}\n"
      ],
      "metadata": {
        "colab": {
          "base_uri": "https://localhost:8080/"
        },
        "id": "d5JvVHeYw7Fv",
        "outputId": "12296813-201d-4dba-9bcc-aec07ac23be5"
      },
      "execution_count": null,
      "outputs": [
        {
          "output_type": "execute_result",
          "data": {
            "text/plain": [
              "{'a': 4, 'b': 2, 'c': 14}"
            ]
          },
          "metadata": {},
          "execution_count": 23
        }
      ]
    },
    {
      "cell_type": "code",
      "source": [
        "my_dict = {\"a\": 2, \"b\": [1, 2, 3], \"dict\": {\"no of apple\": 2}}\n",
        "new_dict = {key: value ** 2 if isinstance(value, int) else value for key, value in my_dict.items()}\n",
        "print(new_dict)"
      ],
      "metadata": {
        "colab": {
          "base_uri": "https://localhost:8080/"
        },
        "id": "5BrwvnIZyay7",
        "outputId": "2ff423ba-76ed-40db-83c8-37feff651c56"
      },
      "execution_count": null,
      "outputs": [
        {
          "output_type": "stream",
          "name": "stdout",
          "text": [
            "{'a': 4, 'b': [1, 2, 3], 'dict': {'no of apple': 2}}\n"
          ]
        }
      ]
    },
    {
      "cell_type": "markdown",
      "source": [
        "How memory managed in python?"
      ],
      "metadata": {
        "id": "Vu9UH0Gizcgs"
      }
    },
    {
      "cell_type": "code",
      "source": [
        "#Private heap memory\n",
        "# Python memory manager\n",
        "# Garbage collector is used to collect unused memory"
      ],
      "metadata": {
        "id": "Q5oR6x5XzgEM"
      },
      "execution_count": null,
      "outputs": []
    },
    {
      "cell_type": "markdown",
      "source": [
        "What is init keyword in python?"
      ],
      "metadata": {
        "id": "kWA8xhPezs3v"
      }
    },
    {
      "cell_type": "code",
      "source": [
        "# When an object of class is created. __init__ automatically call. It is used to initilize the object of class\n",
        "class Book:\n",
        "  def __init__(self,name):\n",
        "    self.name = name\n",
        "\n",
        "  def authr_name(self):\n",
        "    return print(f\"The author of book is {self.name}\")\n",
        "\n",
        "pyt = Book(\"Naveed\") \n",
        "pyt.authr_name()\n",
        "    "
      ],
      "metadata": {
        "colab": {
          "base_uri": "https://localhost:8080/"
        },
        "id": "PSXkfWsMzwCT",
        "outputId": "69150cf8-b922-4b2c-cf6f-fde3604ec714"
      },
      "execution_count": null,
      "outputs": [
        {
          "output_type": "stream",
          "name": "stdout",
          "text": [
            "The author of book is Naveed\n"
          ]
        }
      ]
    },
    {
      "cell_type": "markdown",
      "source": [
        "What is the difference b/w module and package?"
      ],
      "metadata": {
        "id": "6j1Nnvqw1Zaw"
      }
    },
    {
      "cell_type": "markdown",
      "source": [],
      "metadata": {
        "id": "ESlSkmwp3uQ_"
      }
    },
    {
      "cell_type": "code",
      "source": [
        "# In Python, an iterator is an object that implements the iterator protocol, which consists of the __iter__ and __next__ methods.\n",
        "# The __iter__ method returns the iterator object itself, and the __next__ method returns the next value in the sequence or raises the StopIteration exception if there are no more values.\n",
        "# A generator is a special type of iterator that is defined using a function that contains one or more yield statements."
      ],
      "metadata": {
        "id": "KFSgsyty3t4J"
      },
      "execution_count": null,
      "outputs": []
    },
    {
      "cell_type": "code",
      "source": [
        "from random import random\n",
        "# Module is a collection of functions, whereas a package is a directory with multiple modules inside it\n",
        "# module:\n",
        "  # math\n",
        "  # random\n",
        "  # os\n",
        "  #date time\n",
        "# Package\n",
        "  \n",
        "  # numpy \n",
        "  # matplotlip\n",
        "  # pandas"
      ],
      "metadata": {
        "id": "QhUhC9Qu1edv"
      },
      "execution_count": null,
      "outputs": []
    },
    {
      "cell_type": "markdown",
      "source": [
        "What is the difference b/w range and xrange?"
      ],
      "metadata": {
        "id": "8zZZdZVh2cDI"
      }
    },
    {
      "cell_type": "code",
      "source": [
        "#python 2: xrange()\n",
        "#python 3: no\n",
        "# range return list of integers\n",
        "#xrange return generator object"
      ],
      "metadata": {
        "id": "mVkPKoTT2n6j"
      },
      "execution_count": null,
      "outputs": []
    },
    {
      "cell_type": "markdown",
      "source": [
        "What are the Generator? Explain with an exammple?"
      ],
      "metadata": {
        "id": "1Brf4g_U5DSI"
      }
    },
    {
      "cell_type": "code",
      "source": [
        "def even_numbers(n):\n",
        "    for i in range(n):\n",
        "        if i % 2 == 0:\n",
        "            yield i # When a generator function is called, it returns a generator object that can be used to iterate over the values produced by the yield statements.\n",
        "gen=even_numbers(10) \n",
        "\n",
        "for va in gen:\n",
        "  print(va)"
      ],
      "metadata": {
        "colab": {
          "base_uri": "https://localhost:8080/"
        },
        "id": "7wyS3ZSA5CrP",
        "outputId": "b0131af6-69f3-4f8f-83b4-e558de668f9f"
      },
      "execution_count": null,
      "outputs": [
        {
          "output_type": "stream",
          "name": "stdout",
          "text": [
            "0\n",
            "2\n",
            "4\n",
            "6\n",
            "8\n"
          ]
        }
      ]
    },
    {
      "cell_type": "code",
      "source": [
        "def my_generator():\n",
        "    yield 1\n",
        "    yield 2\n",
        "    yield 3\n",
        "gen = my_generator()\n",
        "\n",
        "print(next(gen)) # Output: 1\n",
        "print(next(gen)) # Output: 2\n",
        "print(next(gen)) # Output: 3    "
      ],
      "metadata": {
        "colab": {
          "base_uri": "https://localhost:8080/"
        },
        "id": "Wsl8BsrDc0Bi",
        "outputId": "9f968348-d152-4743-9e6d-9af86742575d"
      },
      "execution_count": 2,
      "outputs": [
        {
          "output_type": "stream",
          "name": "stdout",
          "text": [
            "1\n",
            "2\n",
            "3\n"
          ]
        }
      ]
    },
    {
      "cell_type": "markdown",
      "source": [
        "What are inbuilt data type in python? OR Explain mutable and immuatable data type in python?"
      ],
      "metadata": {
        "id": "DhZlYITG6Tvk"
      }
    },
    {
      "cell_type": "code",
      "source": [
        "\n",
        "# object values changes = mutable\n",
        "  # list\n",
        "  # set\n",
        "  # dict\n",
        "# object values can not change\n",
        "  # boleon\n",
        "  # integer\n",
        "  # float\n",
        "  # string\n",
        "  # tuple\n",
        "\n"
      ],
      "metadata": {
        "id": "bLZOEENH6k26"
      },
      "execution_count": null,
      "outputs": []
    },
    {
      "cell_type": "markdown",
      "source": [
        "# Explain Ternary operation in python?"
      ],
      "metadata": {
        "id": "c4wVKgCK7gFs"
      }
    },
    {
      "cell_type": "code",
      "source": [
        "age = 25\n",
        "discount = 5 if age <65 else 10\n",
        "print(discount)"
      ],
      "metadata": {
        "colab": {
          "base_uri": "https://localhost:8080/"
        },
        "id": "A6-MktYL750B",
        "outputId": "a5101a01-c9ec-44fa-d91a-6dd816a52ac3"
      },
      "execution_count": null,
      "outputs": [
        {
          "output_type": "stream",
          "name": "stdout",
          "text": [
            "5\n"
          ]
        }
      ]
    },
    {
      "cell_type": "markdown",
      "source": [
        "# What is inheritance in Python?"
      ],
      "metadata": {
        "id": "SYjoH5W48N-e"
      }
    },
    {
      "cell_type": "code",
      "source": [
        "# The child class can access all the attributes and functions of parent class\n",
        "\n",
        "class Animal:\n",
        "  def __init__(self,name,color, breed):\n",
        "    self.name = name\n",
        "    self.breed = breed\n",
        "    self.color = color\n",
        "    \n",
        "  def Cant_Speak(self):\n",
        "    return print(f\" {self.name} with {self.color} can not speak \")\n",
        "\n",
        "class Dog(Animal):\n",
        "  def __init__(self,name,color,breed):\n",
        "    super().__init__(name,color,breed)\n",
        "    self.Cant_Speak()\n",
        "\n",
        "dog = Dog(\"tony\",\"white\",\"german\")   \n",
        "\n"
      ],
      "metadata": {
        "colab": {
          "base_uri": "https://localhost:8080/"
        },
        "id": "OG4SpK6w8RSV",
        "outputId": "d4edcd41-6a57-4a05-a783-beb6b44988bb"
      },
      "execution_count": null,
      "outputs": [
        {
          "output_type": "stream",
          "name": "stdout",
          "text": [
            " tony with white can not speak \n"
          ]
        }
      ]
    },
    {
      "cell_type": "markdown",
      "source": [
        "#What is the difference b/w local and global variable? -->"
      ],
      "metadata": {
        "id": "GFROwQ9e-uit"
      }
    },
    {
      "cell_type": "code",
      "source": [
        "# local: define in function\n",
        "# decleare outside the function"
      ],
      "metadata": {
        "id": "Gsxg1fNq-2B5"
      },
      "execution_count": null,
      "outputs": []
    },
    {
      "cell_type": "markdown",
      "source": [
        "What is break , cintinue and pass statement?"
      ],
      "metadata": {
        "id": "ZTf59dQ0_HO8"
      }
    },
    {
      "cell_type": "code",
      "source": [
        "# Break: out of loop\n",
        "# Continue: restrict current iteration\n",
        "# Pass: ignoring all content"
      ],
      "metadata": {
        "id": "xgpX_2JC_NAm"
      },
      "execution_count": null,
      "outputs": []
    },
    {
      "cell_type": "markdown",
      "source": [
        "# What is self keyword in python?"
      ],
      "metadata": {
        "id": "VJADvvGi_gaj"
      }
    },
    {
      "cell_type": "code",
      "source": [
        "#  it is a reference to current class\n",
        "# currently which instance is running in class"
      ],
      "metadata": {
        "id": "B3W9TK--_6Y0"
      },
      "execution_count": null,
      "outputs": []
    },
    {
      "cell_type": "markdown",
      "source": [
        "# What is pickling and unoickling?"
      ],
      "metadata": {
        "id": "cReHFs-pBmeV"
      }
    },
    {
      "cell_type": "code",
      "source": [
        "#Pickling\n",
        "# python object like list and we need to convert it into byte formate and store in file serialization pickle.dump\n",
        "# UnPickling\n",
        "# file into python object pickle.load"
      ],
      "metadata": {
        "id": "lQovsXpzBtoj"
      },
      "execution_count": null,
      "outputs": []
    },
    {
      "cell_type": "markdown",
      "source": [
        "# What is the function of list, tuple, set and dictionary?"
      ],
      "metadata": {
        "id": "ZM6-Gf_-CUYj"
      }
    },
    {
      "cell_type": "markdown",
      "source": [
        "# Explain type conversion in Python (int, float, str, oct)?"
      ],
      "metadata": {
        "id": "jjxVe9LqDdRx"
      }
    },
    {
      "cell_type": "markdown",
      "source": [
        "# What is *args and **kwargs?"
      ],
      "metadata": {
        "id": "uc929Y-REKRr"
      }
    },
    {
      "cell_type": "code",
      "source": [
        "# *args\n",
        "  # when we do  not know the number of paramters passed for a function. passing paramters in the form of list\n",
        "\n",
        "# *kwargs\n",
        "  # when we do  not know the number of paramters passed for a function. passing paramters in the form of dict\n",
        "\n",
        "def ABC(*args):\n",
        "  for item in args:\n",
        "    print(item)\n",
        "\n",
        "a=ABC(\"name\",[1,2,3,5],(1,2))\n",
        "\n",
        "def ACB(**kwarg):\n",
        "  for k, v in kwarg.items():\n",
        "    print(k,v)\n",
        "\n",
        "\n",
        "d = ACB(my_dict={\"apple\":10,\"lst\":[1,4,6]})     \n",
        "\n"
      ],
      "metadata": {
        "colab": {
          "base_uri": "https://localhost:8080/"
        },
        "id": "gQX-suHSERQJ",
        "outputId": "acb6adee-90aa-4b7a-cdf8-fa2579e66f9b"
      },
      "execution_count": null,
      "outputs": [
        {
          "output_type": "stream",
          "name": "stdout",
          "text": [
            "name\n",
            "[1, 2, 3, 5]\n",
            "(1, 2)\n",
            "my_dict {'apple': 10, 'lst': [1, 4, 6]}\n"
          ]
        }
      ]
    },
    {
      "cell_type": "markdown",
      "source": [
        "# What is Open and With statement?"
      ],
      "metadata": {
        "id": "MLFAE65gG6wP"
      }
    },
    {
      "cell_type": "code",
      "source": [
        "# File handling \n",
        "#(With: it open a file and automaticaly close it) with open (file name)\n",
        "# Open: we need to open and manualy close\n",
        " "
      ],
      "metadata": {
        "id": "KG3mi-flG-hS"
      },
      "execution_count": null,
      "outputs": []
    },
    {
      "cell_type": "markdown",
      "source": [
        "# What are different ways of read/write a file in python?"
      ],
      "metadata": {
        "id": "L5emhHZcHp6R"
      }
    },
    {
      "cell_type": "code",
      "source": [
        "# open(filename, mode=read, write, append) r,r+, w, w+"
      ],
      "metadata": {
        "id": "hkE4G2cKHxrZ"
      },
      "execution_count": null,
      "outputs": []
    },
    {
      "cell_type": "markdown",
      "source": [
        "#What are Python path?\n"
      ],
      "metadata": {
        "id": "kmKGxzLUIdJH"
      }
    },
    {
      "cell_type": "code",
      "source": [
        "# it is an environment variable which you can set to add additional directories where python look for extra packages and modules"
      ],
      "metadata": {
        "id": "NpEgzEH4Igno"
      },
      "execution_count": null,
      "outputs": []
    },
    {
      "cell_type": "markdown",
      "source": [
        "# How exception is handled in python?"
      ],
      "metadata": {
        "id": "mjhSsL01I2ws"
      }
    },
    {
      "cell_type": "code",
      "source": [
        "\n",
        "# Try: code execution in try, if exception occurs than go to exception block\n",
        "# except= Handle error\n",
        "# else = when exception not executed\n",
        "# finally= it will run either exception come or not\n",
        "\n",
        "try:\n",
        "  num1=int(input(\"input a number\"))\n",
        "  num2=int(input(\"input a number\"))\n",
        "  result =num1/num2\n",
        "  print(result)\n",
        "except ValueError:\n",
        "  print(\"please enter a valid integer\")\n",
        "except ZeroDivisionError:\n",
        "  print(\"Can not divide by zero\")\n"
      ],
      "metadata": {
        "colab": {
          "base_uri": "https://localhost:8080/"
        },
        "id": "Ofxb7TkeI74n",
        "outputId": "bbef91af-90b7-4b17-f83c-6555439c6447"
      },
      "execution_count": null,
      "outputs": [
        {
          "output_type": "stream",
          "name": "stdout",
          "text": [
            "input a number2\n",
            "input a number0\n",
            "Can not divide by zero\n"
          ]
        }
      ]
    },
    {
      "cell_type": "markdown",
      "source": [
        "# What is difference b/w python 2.0 and 3.0"
      ],
      "metadata": {
        "id": "i1eyoEBKLBtO"
      }
    },
    {
      "cell_type": "markdown",
      "source": [
        "# What is pip in python?"
      ],
      "metadata": {
        "id": "T3zt9btULZ2q"
      }
    },
    {
      "cell_type": "code",
      "source": [
        "# pip is the package manager in python, used to install the packages that do not come with python"
      ],
      "metadata": {
        "id": "kfa3pxY-LeN-"
      },
      "execution_count": null,
      "outputs": []
    },
    {
      "cell_type": "markdown",
      "source": [
        "# Where Python is used?"
      ],
      "metadata": {
        "id": "HIEud9qbLrsY"
      }
    },
    {
      "cell_type": "markdown",
      "source": [
        "# How to use f string and format replacement operator?"
      ],
      "metadata": {
        "id": "i9BoBb7WL69h"
      }
    },
    {
      "cell_type": "code",
      "source": [
        "name = \"naveed\"\n",
        "role = \"Python Developer\"\n",
        "print(f\"my name is {name}\")\n",
        "print(\"My name is {} and I am a {}\".format(name,role))"
      ],
      "metadata": {
        "colab": {
          "base_uri": "https://localhost:8080/"
        },
        "id": "wWSIpgrmMJEX",
        "outputId": "8d65fe6d-bf9f-43c3-b103-7f25bcc17db1"
      },
      "execution_count": null,
      "outputs": [
        {
          "output_type": "stream",
          "name": "stdout",
          "text": [
            "my name is naveed\n",
            "My name is naveed and I am a Python Developer\n"
          ]
        }
      ]
    },
    {
      "cell_type": "markdown",
      "source": [
        "# How to get list of all the key in the dictionary?"
      ],
      "metadata": {
        "id": "bd0yEk2hMvAm"
      }
    },
    {
      "cell_type": "code",
      "source": [
        "my_dict = {\"a\":1,\"b\":2,\"c\":3}\n",
        "print(list(my_dict))\n",
        "empty_list = []\n",
        "for k,v in my_dict.items():\n",
        "  # print(k,v)\n",
        "  empty_list.append(k)\n",
        "empty_list  "
      ],
      "metadata": {
        "colab": {
          "base_uri": "https://localhost:8080/"
        },
        "id": "oBpfhjv3MzWX",
        "outputId": "ebcf5993-e1bd-409b-ac8f-8c5bb0be4223"
      },
      "execution_count": null,
      "outputs": [
        {
          "output_type": "stream",
          "name": "stdout",
          "text": [
            "['a', 'b', 'c']\n"
          ]
        },
        {
          "output_type": "execute_result",
          "data": {
            "text/plain": [
              "['a', 'b', 'c']"
            ]
          },
          "metadata": {},
          "execution_count": 66
        }
      ]
    },
    {
      "cell_type": "markdown",
      "source": [
        "# What is difference b/w abstraction and encapsulation?\n"
      ],
      "metadata": {
        "id": "2cfbGSY6NskO"
      }
    },
    {
      "cell_type": "markdown",
      "source": [
        "#Tricky Question"
      ],
      "metadata": {
        "id": "u1HQKHvLOWPJ"
      }
    },
    {
      "cell_type": "markdown",
      "source": [
        "# Does python support multiple inheritance or diamond problem?"
      ],
      "metadata": {
        "id": "VbAD5T5uOcGM"
      }
    },
    {
      "cell_type": "markdown",
      "source": [
        "# what is the difference b/w .py and .pyc?"
      ],
      "metadata": {
        "id": "hEHuaMKYPb0R"
      }
    },
    {
      "cell_type": "code",
      "source": [
        "#.py= where we write the code\n",
        "#,pyc= compiled version , bytecode of your program\n",
        "a = [1,2,5,6,7,9,5,3]\n",
        "a[2:]"
      ],
      "metadata": {
        "colab": {
          "base_uri": "https://localhost:8080/"
        },
        "id": "1q1ZGaRCPhs0",
        "outputId": "19b34088-f694-418b-838f-5d7397bdda03"
      },
      "execution_count": null,
      "outputs": [
        {
          "output_type": "execute_result",
          "data": {
            "text/plain": [
              "[5, 6, 7, 9, 5, 3]"
            ]
          },
          "metadata": {},
          "execution_count": 71
        }
      ]
    },
    {
      "cell_type": "markdown",
      "source": [
        "# Can we concatinate two tuples? How?"
      ],
      "metadata": {
        "id": "5liB7ASjUtbl"
      }
    },
    {
      "cell_type": "code",
      "source": [
        "# By using +\n",
        "# in case of tuple we can add but on different memory location. IN list same extend operation is performed on the same memory location"
      ],
      "metadata": {
        "id": "DI-KGMmLUx2K"
      },
      "execution_count": null,
      "outputs": []
    },
    {
      "cell_type": "markdown",
      "source": [
        "# What is adifference b/w list and an array?"
      ],
      "metadata": {
        "id": "CiEmn_1WV23f"
      }
    },
    {
      "cell_type": "code",
      "source": [
        "# list= Hetrogenious data, store value of different datatypes\n",
        "# array=homogenious data, store value of same datatype"
      ],
      "metadata": {
        "id": "GnUr-u-QWGP4"
      },
      "execution_count": null,
      "outputs": []
    },
    {
      "cell_type": "markdown",
      "source": [
        "# What is _a, __a, ___a__?"
      ],
      "metadata": {
        "id": "zFXfs7tVWl0N"
      }
    },
    {
      "cell_type": "code",
      "source": [
        "# 1. private method\n",
        "# 2.\n",
        "# 3. special function"
      ],
      "metadata": {
        "id": "PWpEw-CeWsH_"
      },
      "execution_count": null,
      "outputs": []
    },
    {
      "cell_type": "markdown",
      "source": [
        "#How to read multiple values from single input?\n",
        "using map function x = list(map(int,input(\"Enter a value).split()))"
      ],
      "metadata": {
        "id": "FfzdoS6iXSQz"
      }
    },
    {
      "cell_type": "markdown",
      "source": [
        "# How to copy and delete a dictionary?\n",
        "d1.clear(), d1.pop('A'), del d1('B')\n",
        "d3 = d2.copy()\n",
        "d3= d2"
      ],
      "metadata": {
        "id": "_m92MAbhXyu_"
      }
    },
    {
      "cell_type": "markdown",
      "source": [
        "# Difference b/w lamda and aanonymous function?"
      ],
      "metadata": {
        "id": "FlpOJy0LZLAr"
      }
    },
    {
      "cell_type": "code",
      "source": [
        "add = lambda x, y: x + y\n",
        "# Both are equal\n",
        "def add(x, y):\n",
        "    return x + y\n",
        "print(add)    "
      ],
      "metadata": {
        "colab": {
          "base_uri": "https://localhost:8080/"
        },
        "id": "tV9PYSE5ZziE",
        "outputId": "f8683057-811d-4d72-faed-e9a9eb4162a9"
      },
      "execution_count": null,
      "outputs": [
        {
          "output_type": "stream",
          "name": "stdout",
          "text": [
            "<function add at 0x7fad5e265430>\n"
          ]
        }
      ]
    },
    {
      "cell_type": "markdown",
      "source": [
        "# Advanced Level Question"
      ],
      "metadata": {
        "id": "SWGuseoQaXcm"
      }
    },
    {
      "cell_type": "markdown",
      "source": [
        "# What is Nmaespace?\n",
        " pre defined variable, function, module\n",
        "take care of those variable nad function and module to dempolish the cinflict b/w human and python variable (Namespace is used)"
      ],
      "metadata": {
        "id": "saS7BBptZUye"
      }
    },
    {
      "cell_type": "markdown",
      "source": [
        "# Explain recurrsion by reversing a list"
      ],
      "metadata": {
        "id": "xoCW2XdFeFRX"
      }
    },
    {
      "cell_type": "code",
      "source": [
        "# def reverse_list(lst):\n",
        "#     if len(lst) == 0 or len(lst) == 1:\n",
        "#         return lst\n",
        "#     else:\n",
        "#         return reverse_list(lst[1:]) + [lst[0]]\n",
        "\n",
        "\n",
        "def reverse_list(lst1):\n",
        "  if len(lst1) == 0 or len(lst1) == 1:\n",
        "    return lst1\n",
        "  else:\n",
        "    return reverse_list(lst1[1:])+[lst1[0]]\n",
        "\n",
        "lst1 = [1,2,3,4]\n",
        "reverse_list(lst1) \n",
        "# lst1 = [1,2,3,4]\n",
        "# a=list(reversed(lst1))\n",
        "# print(a)\n",
        "\n",
        "# lst1.reverse()\n",
        "# print(lst1)\n",
        "# reverse_list(lst1)  \n",
        "\n",
        "# lst = [1, 2, 3, 4, 5]\n",
        "# lst.reverse()\n",
        "# print(lst)\n"
      ],
      "metadata": {
        "colab": {
          "base_uri": "https://localhost:8080/"
        },
        "id": "QCyj0vAEk9B5",
        "outputId": "f87ee052-9bce-4da7-ab24-63277e570086"
      },
      "execution_count": 34,
      "outputs": [
        {
          "output_type": "execute_result",
          "data": {
            "text/plain": [
              "[4, 3, 2, 1]"
            ]
          },
          "metadata": {},
          "execution_count": 34
        }
      ]
    },
    {
      "cell_type": "code",
      "source": [
        "def reversing_list(strng):\n",
        "  new_str = \"\"\n",
        "  for idx in range(len(strng)-1,-1,-1):\n",
        "    new_str = new_str +strng[idx]\n",
        "  return new_str  \n",
        "\n",
        "\n",
        "strng = \"naveed\"\n",
        "reversing_list(strng)\n",
        "\n",
        "\n",
        "# # write a function take a string and reverse it\n",
        "# def reverse_str(strng):\n",
        "#   revers_st= \"\"\n",
        "#   for char in range(len(strng)-1,-1,-1):\n",
        "#     revers_st = revers_st + strng[char]\n",
        "#   return revers_st  \n",
        "\n",
        "\n",
        "\n",
        "# strng = \"naveed\"\n",
        "reverse_str(strng)    "
      ],
      "metadata": {
        "id": "bHP1AF0RpBOv",
        "colab": {
          "base_uri": "https://localhost:8080/",
          "height": 36
        },
        "outputId": "33b5cc86-ba1e-40e3-a1a8-d7987f9acde1"
      },
      "execution_count": 12,
      "outputs": [
        {
          "output_type": "execute_result",
          "data": {
            "text/plain": [
              "'deevan'"
            ],
            "application/vnd.google.colaboratory.intrinsic+json": {
              "type": "string"
            }
          },
          "metadata": {},
          "execution_count": 12
        }
      ]
    },
    {
      "cell_type": "code",
      "source": [
        "n = int(input(\"enter\"))\n",
        "a,b =0,1\n",
        "for i in range(n):\n",
        "  print(a)\n",
        "  a,b = b, a+b"
      ],
      "metadata": {
        "colab": {
          "base_uri": "https://localhost:8080/"
        },
        "id": "tIqz4CnPsctH",
        "outputId": "2552a3eb-d173-4353-d430-dcafedfa4079"
      },
      "execution_count": 11,
      "outputs": [
        {
          "output_type": "stream",
          "name": "stdout",
          "text": [
            "enter5\n",
            "0\n",
            "1\n",
            "1\n",
            "2\n",
            "3\n"
          ]
        }
      ]
    },
    {
      "cell_type": "markdown",
      "source": [],
      "metadata": {
        "id": "eqobBzVvabTA"
      }
    }
  ]
}